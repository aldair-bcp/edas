{
 "cells": [
  {
   "cell_type": "markdown",
   "metadata": {},
   "source": [
    "## **Python - Resumen**\n",
    "\n",
    "0. [Recapitulación - Jupyter](#recap_jupyter)\n",
    "1. [Operaciones comunes en Jupyter ](#ope_comun)\n",
    "2. [Python objetos, tipos y variable](#python_obj)<br>\n",
    "3. [Operaciones Básicas](#op_basicas)<br>\n",
    "4. [Algunos métodos en objetos de cadena](#metodos_cad)<br>\n",
    "5. [Contenedores Básicos](#contenedores)   \n",
    "    5.1. [Listas](#metodos_list)<br>\n",
    "    5.2. [Tuplas](#metodos_tuplas)<br>\n",
    "    5.3. [Sets](#metodos_set)<br>\n",
    "    5.4. [Diccionarios](#metodos_dict)<br>\n",
    "6. [Atributos de objetos de Python (métodos y propiedades)](#atributos_obj)<br>\n",
    "7. [Funciones integradas de Python e invocables](#funciones_int)<br>\n",
    "8. [Funciones Python](#func_python)<br>\n",
    "9. [Python \"bucle for\"](#bucle_for)<br>\n",
    "10. [Python \"Condicional if \" and \"bucle while\"](#bucle_while)<br>\n",
    "11. [Crear objetos a partir de argumentos u otros objetos](#crear_obj)<br>\n",
    "12. [Importación de Librerías](#import_lib)<br>\n",
    "13. [Estadisticos](#estadisticos)<br>\n",
    "14. [Librería Pandas](#pandas)<br>"
   ]
  },
  {
   "cell_type": "markdown",
   "metadata": {},
   "source": [
    "## <a id=\"recap_jupyter\" style=\"color:black\">0. Recapitulación - Jupyter</a> \n",
    "\n",
    "Cuando está editando una celda en Jupyter Notebook, debe volver a ejecutar la celda presionando **`<Shift> + <Enter>`**. Esto permitirá que los cambios que haya realizado estén disponibles para otras celdas.\n",
    "\n",
    "Use **`<Enter>`** para crear nuevas líneas dentro de una celda que está editando.\n",
    "\n",
    "Use **`<B>`** para crear nuevas líneas dentro de una celda que está editando.\n",
    "\n",
    "#### Celdas Code \n",
    "\n",
    "Volver a ejecutar ejecutará cualquier declaración que haya escrito. Para editar una celda de código existente, haga clic en ella.\n",
    "\n",
    "#### Celdas Markdown\n",
    "\n",
    "Volver a ejecutar generará el texto Markdown. Para editar una celda Markdown existente, haga doble clic en ella.\n",
    "\n",
    "<hr>"
   ]
  },
  {
   "cell_type": "markdown",
   "metadata": {},
   "source": [
    "## <a id=\"ope_comun\" style=\"color:black\">1. Operaciones comunes en Jupyter</a> \n",
    "\n",
    "Cerca de la parte superior de la ventana del cuaderno Jupyter, hay una fila de opciones de menú (`File`, `Edit`, `View`, `Insert`, ...) y una fila de iconos de la barra de herramientas (disk, signo más, tijeras, 2 hojas, portapapeles y hoja, flecha arriba,...).\n",
    "\n",
    "#### Inserción y eliminación de celdas\n",
    "\n",
    "- Utilice el icono de \"signo más\" para insertar una celda debajo de la celda seleccionada actualmente\n",
    "- Use \"Insertar\" -> \"Insertar celda arriba\" del menú para insertar arriba\n",
    "\n",
    "#### Borrar el output de todas las celdas\n",
    "\n",
    "- Usa \"Kernel\" -> \"Reiniciar\" en el menú para reiniciar el kernel\n",
    "     - haga clic en \"borrar todas las salidas y reiniciar\" para borrar todas las salidas\n",
    "\n",
    "#### Guardar el notebook en local\n",
    "\n",
    "- Borrar la salida de todas las celdas\n",
    "- Use \"Archivo\" -> \"Descargar como\" -> \"Cuaderno IPython (.ipynb)\" para descargar un archivo de notebook.\n",
    "\n",
    "<hr>\n",
    "\n",
    "##### Referencias\n",
    "\n",
    "- https://jupyter-notebook.readthedocs.io/en/latest/notebook.html\n",
    "- https://mybinder.readthedocs.io/en/latest/introduction.html\n",
    "- https://docs.python.org/3/tutorial/index.html\n",
    "- https://docs.python.org/3/tutorial/introduction.html\n",
    "- https://daringfireball.net/projects/markdown/syntax\n",
    "\n",
    "<hr>"
   ]
  },
  {
   "cell_type": "markdown",
   "metadata": {},
   "source": [
    "## <a id=\"python_obj\" style=\"color:black\">2. Python objetos, tipos, y variable</a> \n",
    "\n",
    "Todo en Python es un **objeto** y cada objeto en Python tiene un **tipo**. Algunos de los tipos básicos incluyen:\n",
    "\n",
    "- **`int`** (int/entero; un numero sin decimal)\n",
    "  - `10`\n",
    "  - `-3`\n",
    "- **`float`** (float/flotante; un numerco con decimal)\n",
    "  - `7.41`\n",
    "  - `-0.006`\n",
    "- **`str`** (string/cadena; una secuencia de caracteres entre comillas simples, comillas dobles o comillas triples)\n",
    "   - `'esta es una cadena que usa comillas simples'`\n",
    "   - `\"esta es una cadena que usa comillas dobles\"`\n",
    "   - `''''esta es una cadena entre comillas triples usando comillas simples''''`\n",
    "   - `\"\"\"esta es una cadena entre comillas triples usando comillas dobles\"\"\"`\n",
    "- **`bool`** (boolean/booleano; un valor binario que puede ser Verdadero o Falso)\n",
    "  - `True`\n",
    "  - `False`\n",
    "- **`NoneType`** (un tipo especial que representa la ausencia de un valor)\n",
    "  - `None`\n",
    "\n",
    "En Python, una **variable** es un nombre que especifica en su código que se asigna a un **objeto**, una **instancia** o un valor en particular.\n",
    "\n",
    "Al definir variables, podemos referirnos a las cosas con nombres que tengan sentido para nosotros. Los nombres de las variables solo pueden contener letras, guiones bajos (`_`) o números (sin espacios, guiones u otros caracteres). Los nombres de las variables deben comenzar con una letra o un guión bajo.\n",
    "\n",
    "<hr>"
   ]
  },
  {
   "cell_type": "markdown",
   "metadata": {},
   "source": [
    "## <a id=\"op_basicas\" style=\"color:black\">3. Operaciones Básicas</a> \n",
    "\n",
    "En Python, existen diferentes tipos de **operadores** (símbolos especiales) que operan en diferentes valores. Algunos de los operadores básicos incluyen:\n",
    "\n",
    "- operadores aritméticos\n",
    "  - **`+`** (suma)\n",
    "  - **`-`** (resta)\n",
    "  - **`*`** (multiplicacion)\n",
    "  - **`/`** (division)\n",
    "  - __`**`__ (potencia)\n",
    "- operadores de asignación\n",
    "  - **`=`** (asigna un valor)\n",
    "  - **`+=`** (suma y re-asigna; incrementa)\n",
    "  - **`-=`** (rest y re-asigna; decrementa)\n",
    "  - **`*=`** (multiplica y re-asigna)\n",
    "- operadores de comparación (devuelve `True` or `False`)\n",
    "  - **`==`** (igual a)\n",
    "  - **`!=`** (no igual a)\n",
    "  - **`<`** (menor que)\n",
    "  - **`<=`** (menor o igual que)\n",
    "  - **`>`** (mayor que)\n",
    "  - **`>=`** (mayor igual que)\n",
    "\n",
    "Cuando se utilizan varios operadores en una sola expresión, la **precedencia de operadores** determina qué partes de la expresión se evalúan y en qué orden. Los operadores con mayor precedencia se evalúan primero(como en matemáticas). Los operadores con la misma precedencia se evalúan de izquierda a derecha.\n",
    "\n",
    "- `()` parentesis, para agrupar\n",
    "- `**` exponente\n",
    "- `*`, `/` multiplicacion y division\n",
    "- `+`, `-` suma y resta\n",
    "- `==`, `!=`, `<`, `<=`, `>`, `>=` comparaciones\n",
    "\n",
    "Documentación: https://docs.python.org/3/reference/expressions.html#operator-precedence"
   ]
  },
  {
   "cell_type": "code",
   "execution_count": 79,
   "metadata": {},
   "outputs": [],
   "source": [
    "# Asignar algunos números a diferentes variables\n",
    "num1 = 10\n",
    "num2 = -3\n",
    "num3 = 7.41\n",
    "num4 = -.6\n",
    "num5 = 7\n",
    "num6 = 3\n",
    "num7 = 11.11"
   ]
  },
  {
   "cell_type": "code",
   "execution_count": 80,
   "metadata": {},
   "outputs": [
    {
     "data": {
      "text/plain": [
       "7"
      ]
     },
     "execution_count": 80,
     "metadata": {},
     "output_type": "execute_result"
    }
   ],
   "source": [
    "# Suma\n",
    "num1 + num2"
   ]
  },
  {
   "cell_type": "code",
   "execution_count": 81,
   "metadata": {},
   "outputs": [
    {
     "data": {
      "text/plain": [
       "-10.41"
      ]
     },
     "execution_count": 81,
     "metadata": {},
     "output_type": "execute_result"
    }
   ],
   "source": [
    "# Resta\n",
    "num2 - num3"
   ]
  },
  {
   "cell_type": "code",
   "execution_count": 82,
   "metadata": {},
   "outputs": [
    {
     "data": {
      "text/plain": [
       "-4.446"
      ]
     },
     "execution_count": 82,
     "metadata": {},
     "output_type": "execute_result"
    }
   ],
   "source": [
    "# Multiplicacion\n",
    "num3 * num4"
   ]
  },
  {
   "cell_type": "code",
   "execution_count": 83,
   "metadata": {},
   "outputs": [
    {
     "data": {
      "text/plain": [
       "-0.08571428571428572"
      ]
     },
     "execution_count": 83,
     "metadata": {},
     "output_type": "execute_result"
    }
   ],
   "source": [
    "# Division\n",
    "num4 / num5"
   ]
  },
  {
   "cell_type": "code",
   "execution_count": 84,
   "metadata": {},
   "outputs": [
    {
     "data": {
      "text/plain": [
       "343"
      ]
     },
     "execution_count": 84,
     "metadata": {},
     "output_type": "execute_result"
    }
   ],
   "source": [
    "# Exponente\n",
    "num5 ** num6"
   ]
  },
  {
   "cell_type": "code",
   "execution_count": 85,
   "metadata": {},
   "outputs": [
    {
     "data": {
      "text/plain": [
       "15.11"
      ]
     },
     "execution_count": 85,
     "metadata": {},
     "output_type": "execute_result"
    }
   ],
   "source": [
    "# Incremento de una variable existente\n",
    "num7 += 4\n",
    "num7"
   ]
  },
  {
   "cell_type": "code",
   "execution_count": 86,
   "metadata": {},
   "outputs": [
    {
     "data": {
      "text/plain": [
       "1"
      ]
     },
     "execution_count": 86,
     "metadata": {},
     "output_type": "execute_result"
    }
   ],
   "source": [
    "# Decremento de una variable existente\n",
    "num6 -= 2\n",
    "num6"
   ]
  },
  {
   "cell_type": "code",
   "execution_count": 87,
   "metadata": {},
   "outputs": [
    {
     "data": {
      "text/plain": [
       "37.05"
      ]
     },
     "execution_count": 87,
     "metadata": {},
     "output_type": "execute_result"
    }
   ],
   "source": [
    "# Multiplicacion & re-asignacion\n",
    "num3 *= 5\n",
    "num3"
   ]
  },
  {
   "cell_type": "code",
   "execution_count": 88,
   "metadata": {},
   "outputs": [
    {
     "data": {
      "text/plain": [
       "-101.14999999999999"
      ]
     },
     "execution_count": 88,
     "metadata": {},
     "output_type": "execute_result"
    }
   ],
   "source": [
    "# Asignar el valor de una expresión a una variable\n",
    "num8 = num1 + num2 * num3\n",
    "num8"
   ]
  },
  {
   "cell_type": "code",
   "execution_count": 89,
   "metadata": {},
   "outputs": [
    {
     "data": {
      "text/plain": [
       "True"
      ]
     },
     "execution_count": 89,
     "metadata": {},
     "output_type": "execute_result"
    }
   ],
   "source": [
    "# ¿Estas expresiones son iguales?\n",
    "num1 + num2 == num5"
   ]
  },
  {
   "cell_type": "code",
   "execution_count": 90,
   "metadata": {},
   "outputs": [
    {
     "data": {
      "text/plain": [
       "True"
      ]
     },
     "execution_count": 90,
     "metadata": {},
     "output_type": "execute_result"
    }
   ],
   "source": [
    "# ¿Son estas expresiones difereentes?\n",
    "num3 != num4"
   ]
  },
  {
   "cell_type": "code",
   "execution_count": 91,
   "metadata": {},
   "outputs": [
    {
     "data": {
      "text/plain": [
       "False"
      ]
     },
     "execution_count": 91,
     "metadata": {},
     "output_type": "execute_result"
    }
   ],
   "source": [
    "# ¿Es la primera expresion menor a la segunda?\n",
    "num5 < num6"
   ]
  },
  {
   "cell_type": "code",
   "execution_count": 92,
   "metadata": {},
   "outputs": [
    {
     "data": {
      "text/plain": [
       "True"
      ]
     },
     "execution_count": 92,
     "metadata": {},
     "output_type": "execute_result"
    }
   ],
   "source": [
    "# ¿Es esta expresion Verdadera?\n",
    "5 > 3 > 1"
   ]
  },
  {
   "cell_type": "code",
   "execution_count": 93,
   "metadata": {},
   "outputs": [
    {
     "data": {
      "text/plain": [
       "True"
      ]
     },
     "execution_count": 93,
     "metadata": {},
     "output_type": "execute_result"
    }
   ],
   "source": [
    "# ¿Es esta expresion Verdadera?\n",
    "5 > 3 < 4 == 3 + 1"
   ]
  },
  {
   "cell_type": "code",
   "execution_count": 94,
   "metadata": {},
   "outputs": [],
   "source": [
    "# Asignar cadenas a diferentes variables\n",
    "simple_string1 = 'un ejemplo'\n",
    "simple_string2 = \"naranjas \""
   ]
  },
  {
   "cell_type": "code",
   "execution_count": 95,
   "metadata": {},
   "outputs": [
    {
     "data": {
      "text/plain": [
       "'un ejemplo del uso del operador +'"
      ]
     },
     "execution_count": 95,
     "metadata": {},
     "output_type": "execute_result"
    }
   ],
   "source": [
    "# Adicion\n",
    "simple_string1 + ' del uso del operador +'"
   ]
  },
  {
   "cell_type": "code",
   "execution_count": 96,
   "metadata": {},
   "outputs": [
    {
     "data": {
      "text/plain": [
       "'un ejemplo'"
      ]
     },
     "execution_count": 96,
     "metadata": {},
     "output_type": "execute_result"
    }
   ],
   "source": [
    "# La variable no se modificó\n",
    "simple_string1"
   ]
  },
  {
   "cell_type": "code",
   "execution_count": 97,
   "metadata": {},
   "outputs": [
    {
     "data": {
      "text/plain": [
       "'naranjas naranjas naranjas naranjas '"
      ]
     },
     "execution_count": 97,
     "metadata": {},
     "output_type": "execute_result"
    }
   ],
   "source": [
    "# Multiplicacion\n",
    "simple_string2 * 4"
   ]
  },
  {
   "cell_type": "code",
   "execution_count": 98,
   "metadata": {},
   "outputs": [
    {
     "data": {
      "text/plain": [
       "'naranjas '"
      ]
     },
     "execution_count": 98,
     "metadata": {},
     "output_type": "execute_result"
    }
   ],
   "source": [
    "# La variable no se modificó\n",
    "simple_string2"
   ]
  },
  {
   "cell_type": "code",
   "execution_count": 99,
   "metadata": {},
   "outputs": [
    {
     "data": {
      "text/plain": [
       "False"
      ]
     },
     "execution_count": 99,
     "metadata": {},
     "output_type": "execute_result"
    }
   ],
   "source": [
    "# Son estas 2 variables iguales?\n",
    "simple_string1 == simple_string2"
   ]
  },
  {
   "cell_type": "code",
   "execution_count": 100,
   "metadata": {},
   "outputs": [
    {
     "data": {
      "text/plain": [
       "True"
      ]
     },
     "execution_count": 100,
     "metadata": {},
     "output_type": "execute_result"
    }
   ],
   "source": [
    "# Son estas 2 variables iguales?\n",
    "simple_string1 == 'un ejemplo'"
   ]
  },
  {
   "cell_type": "code",
   "execution_count": 101,
   "metadata": {},
   "outputs": [
    {
     "data": {
      "text/plain": [
       "'un ejemplo se re-asigna a la cadena original'"
      ]
     },
     "execution_count": 101,
     "metadata": {},
     "output_type": "execute_result"
    }
   ],
   "source": [
    "# adiciona and re-asigna\n",
    "simple_string1 += ' se re-asigna a la cadena original'\n",
    "simple_string1"
   ]
  },
  {
   "cell_type": "code",
   "execution_count": 102,
   "metadata": {},
   "outputs": [
    {
     "data": {
      "text/plain": [
       "'naranjas naranjas naranjas '"
      ]
     },
     "execution_count": 102,
     "metadata": {},
     "output_type": "execute_result"
    }
   ],
   "source": [
    "# Multiplica y re-asigna\n",
    "simple_string2 *= 3\n",
    "simple_string2"
   ]
  },
  {
   "cell_type": "code",
   "execution_count": 103,
   "metadata": {},
   "outputs": [],
   "source": [
    "# Nota: Los operadores de resta, división y resta no se aplican a las cadenas."
   ]
  },
  {
   "cell_type": "markdown",
   "metadata": {},
   "source": [
    "### <a id=\"metodos_cad\" style=\"color:black\">4. Algunos métodos en objetos de cadena</a> \n",
    "\n",
    "- **`.capitalize()`** para devolver una versión en mayúsculas de la cadena (solo el primer carácter en mayúsculas)\n",
    "- **`.upper()`** para devolver una versión en mayúsculas de la cadena (todos los caracteres en mayúsculas)\n",
    "- **`.lower()`** para devolver una versión en minúsculas de la cadena (todos los caracteres en minúsculas)\n",
    "- **`.count(substring)`** para devolver el número de ocurrencias de la subcadena en la cadena\n",
    "- **`.startswith(substring)`** para determinar si la cadena comienza con la subcadena\n",
    "- **`.endswith(substring)`** para determinar si la cadena termina con la subcadena\n",
    "- **`.replace(antiguo, nuevo)`** para devolver una copia de la cadena con ocurrencias de \"antiguo\" reemplazadas por \"nuevo\""
   ]
  },
  {
   "cell_type": "code",
   "execution_count": 104,
   "metadata": {},
   "outputs": [],
   "source": [
    "# Asigna una cadena a una variable\n",
    "a_string = 'tHis is a sTriNg'"
   ]
  },
  {
   "cell_type": "code",
   "execution_count": 105,
   "metadata": {},
   "outputs": [
    {
     "data": {
      "text/plain": [
       "'This is a string'"
      ]
     },
     "execution_count": 105,
     "metadata": {},
     "output_type": "execute_result"
    }
   ],
   "source": [
    "# Devuelve la version capitalized de la cadena\n",
    "a_string.capitalize()"
   ]
  },
  {
   "cell_type": "code",
   "execution_count": 106,
   "metadata": {},
   "outputs": [
    {
     "data": {
      "text/plain": [
       "'THIS IS A STRING'"
      ]
     },
     "execution_count": 106,
     "metadata": {},
     "output_type": "execute_result"
    }
   ],
   "source": [
    "# Devuelve la version uppercase de la cadena\n",
    "a_string.upper()"
   ]
  },
  {
   "cell_type": "code",
   "execution_count": 107,
   "metadata": {},
   "outputs": [
    {
     "data": {
      "text/plain": [
       "'this is a string'"
      ]
     },
     "execution_count": 107,
     "metadata": {},
     "output_type": "execute_result"
    }
   ],
   "source": [
    "# Devuelve la version lowercase de la cadena\n",
    "a_string.lower()"
   ]
  },
  {
   "cell_type": "code",
   "execution_count": 108,
   "metadata": {},
   "outputs": [
    {
     "data": {
      "text/plain": [
       "'tHis is a sTriNg'"
      ]
     },
     "execution_count": 108,
     "metadata": {},
     "output_type": "execute_result"
    }
   ],
   "source": [
    "# Observe que los métodos llamados en realidad no han modificado la cadena\n",
    "a_string"
   ]
  },
  {
   "cell_type": "code",
   "execution_count": 109,
   "metadata": {},
   "outputs": [
    {
     "data": {
      "text/plain": [
       "3"
      ]
     },
     "execution_count": 109,
     "metadata": {},
     "output_type": "execute_result"
    }
   ],
   "source": [
    "# Cuenta el número de ocurrencias de una subcadena en la cadena\n",
    "a_string.count('i')"
   ]
  },
  {
   "cell_type": "code",
   "execution_count": 110,
   "metadata": {},
   "outputs": [
    {
     "data": {
      "text/plain": [
       "1"
      ]
     },
     "execution_count": 110,
     "metadata": {},
     "output_type": "execute_result"
    }
   ],
   "source": [
    "# Cuenta el número de ocurrencias de una subcadena en la cadena después de cierta posición\n",
    "a_string.count('i', 7)"
   ]
  },
  {
   "cell_type": "code",
   "execution_count": 111,
   "metadata": {},
   "outputs": [
    {
     "data": {
      "text/plain": [
       "2"
      ]
     },
     "execution_count": 111,
     "metadata": {},
     "output_type": "execute_result"
    }
   ],
   "source": [
    "# Cuenta el número de ocurrencias de una subcadena en la cadena \n",
    "a_string.count('is')"
   ]
  },
  {
   "cell_type": "code",
   "execution_count": 112,
   "metadata": {},
   "outputs": [
    {
     "data": {
      "text/plain": [
       "False"
      ]
     },
     "execution_count": 112,
     "metadata": {},
     "output_type": "execute_result"
    }
   ],
   "source": [
    "# La cadena empieza con 'this'?\n",
    "a_string.startswith('this')"
   ]
  },
  {
   "cell_type": "code",
   "execution_count": 113,
   "metadata": {},
   "outputs": [
    {
     "data": {
      "text/plain": [
       "True"
      ]
     },
     "execution_count": 113,
     "metadata": {},
     "output_type": "execute_result"
    }
   ],
   "source": [
    "# La cadena luego de lowercase empienza con 'this'?\n",
    "a_string.lower().startswith('this')"
   ]
  },
  {
   "cell_type": "code",
   "execution_count": 114,
   "metadata": {},
   "outputs": [
    {
     "data": {
      "text/plain": [
       "True"
      ]
     },
     "execution_count": 114,
     "metadata": {},
     "output_type": "execute_result"
    }
   ],
   "source": [
    "# La cadena termina con 'Ng'?\n",
    "a_string.endswith('Ng')"
   ]
  },
  {
   "cell_type": "code",
   "execution_count": 115,
   "metadata": {},
   "outputs": [
    {
     "data": {
      "text/plain": [
       "'tHXYZ XYZ a sTriNg'"
      ]
     },
     "execution_count": 115,
     "metadata": {},
     "output_type": "execute_result"
    }
   ],
   "source": [
    "# Devuelve una versión de la cadena con una subcadena reemplazada por otra cosa\n",
    "a_string.replace('is', 'XYZ')"
   ]
  },
  {
   "cell_type": "code",
   "execution_count": 116,
   "metadata": {},
   "outputs": [
    {
     "data": {
      "text/plain": [
       "'tH!s !s a sTr!Ng'"
      ]
     },
     "execution_count": 116,
     "metadata": {},
     "output_type": "execute_result"
    }
   ],
   "source": [
    "# Devuelve una versión de la cadena con una subcadena reemplazada por otra cosa\n",
    "a_string.replace('i', '!')"
   ]
  },
  {
   "cell_type": "code",
   "execution_count": 117,
   "metadata": {},
   "outputs": [
    {
     "data": {
      "text/plain": [
       "'tH!s !s a sTriNg'"
      ]
     },
     "execution_count": 117,
     "metadata": {},
     "output_type": "execute_result"
    }
   ],
   "source": [
    "# Devuelve una versión de la cadena con las 2 primeras ocurrencias de una subcadena reemplazada por otra cosa\n",
    "a_string.replace('i', '!', 2)"
   ]
  },
  {
   "cell_type": "markdown",
   "metadata": {},
   "source": [
    "### <a id=\"contenedores\" style=\"color:black\">5. Contenedores Basicos</a> \n",
    "\n",
    "> Nota: los objetos **mutable** pueden ser modificados luego de su creación y los objetos **immutables** no.\n",
    "\n",
    "Los contenedores son objetos que se pueden usar para agrupar otros objetos. Los tipos básicos de contenedores incluyen:\n",
    "\n",
    "- **`list`** Listas: Pueden contener una secuencia de elementos de cualquier tipo de datos(incluso otras listas) y son mutables. Los elemetos son indexado por números enteros y se almacenan en el orden en que se agregaron. Se definen entre corchetes '[ ]' de la siguiente manera:\n",
    "  - `[3, 5, 6, 3, 'perro', 'gato', False]`\n",
    "- **`tuple`** Tupla: Son similares a las listas, pero sus elementos son inmutables. También puede contener diferentes tipos de dato y a menudo se utilizan para representar colecciones fijas de datos relacionados. Los elemetos son indexado por números enteros y se almacenan en el orden en que se agregaron. Se definen entre paréntesis '( )' de la siguiente manera:\n",
    "  - `(3, 5, 6, 3, 'perro', 'gato', False)`\n",
    "- **`set`** Conjuntos: Son colecciones desordenadas de elementos únicos. Los sets son mutables y pueden contener diferentes tipos de datos, sus elementos NO tienen un orden, sus elementos NO pueden ser modificados y NO contienen elementos duplicados. Son útiles para tareas como eliminar duplicados o verificar la pertenencia de un elemento a una colección. Se definen entre llaves '{ }' de la siguiente manera:\n",
    "  - `{3, 5, 6, 3, 'perro', 'gato', False}`\n",
    "- **`dict`** Los diccionarios no tienen un orden y contienen pares clave-valor. Son una forma eficiente de buscar valores basados en una clave. Las claves deben ser únicas e inmutables (cadenas, enteros o tuplas), mientras que los valores pueden ser de cualquier tipo de datos. Se definen entre llaves '{ }' y separando la  clave y el valor con ':' de la siguiente manera:\n",
    "  - `{'nombre': 'Jane', 'edad': 23, 'comida_fav': ['pizza', 'fruta', 'pescado']}`\n",
    "\n",
    "**Mutable**:  Puede ser modificada; se puede agregar, eliminar o modificar elementos\n",
    "\n",
    "Al definir listas, tuplas o conjuntos, use comas (,) para separar los elementos individuales. Al definir dictados, use dos puntos (:) para separar las claves de los valores y comas (,) para separar los pares clave-valor.\n",
    "\n",
    "Las cadenas, listas y tuplas son **tipos de secuencia** que pueden usar los operadores `+`, `*`, `+=` y `*=`."
   ]
  },
  {
   "cell_type": "markdown",
   "metadata": {},
   "source": [
    "## Acceso a datos en contenedores\n",
    "\n",
    "Para lists, tuples, and dicts, podemos usar **notación de subíndice** (corchetes) para acceder a los datos en un índice.\n",
    "\n",
    "- lists, and tuples están indexadas por números enteros, **iniciando en 0** para el primer elemento\n",
    "   - estos tipos de secuencia también admiten el acceso a un rango de elementos, conocida como **segmentación**\n",
    "   - use **indexación negativa** para comenzar en la parte posterior de la secuencia\n",
    "- los Diccionarios están indexados por sus claves\n",
    "\n",
    "Nota: los sets no están indexados, por lo que no podemos usar la notación de subíndices para acceder a los elementos de datos."
   ]
  },
  {
   "cell_type": "code",
   "execution_count": 118,
   "metadata": {},
   "outputs": [],
   "source": [
    "# Se define un diccionario\n",
    "dict1 = {'nombre': 'Jane', 'edad': 23, 'comida_fav': ['pizza', 'fruta', 'pescado']}"
   ]
  },
  {
   "cell_type": "code",
   "execution_count": 119,
   "metadata": {},
   "outputs": [
    {
     "data": {
      "text/plain": [
       "{'nombre': 'Jane', 'edad': 23, 'comida_fav': ['pizza', 'fruta', 'pescado']}"
      ]
     },
     "execution_count": 119,
     "metadata": {},
     "output_type": "execute_result"
    }
   ],
   "source": [
    "# Los elementos en el objeto dict no se almacenan en el orden en que se agregaron\n",
    "dict1"
   ]
  },
  {
   "cell_type": "code",
   "execution_count": 120,
   "metadata": {},
   "outputs": [
    {
     "data": {
      "text/plain": [
       "'Jane'"
      ]
     },
     "execution_count": 120,
     "metadata": {},
     "output_type": "execute_result"
    }
   ],
   "source": [
    "# Accedemos a uno de los valores\n",
    "dict1['nombre']"
   ]
  },
  {
   "cell_type": "code",
   "execution_count": 121,
   "metadata": {},
   "outputs": [
    {
     "data": {
      "text/plain": [
       "dict_keys(['nombre', 'edad', 'comida_fav'])"
      ]
     },
     "execution_count": 121,
     "metadata": {},
     "output_type": "execute_result"
    }
   ],
   "source": [
    "# Accedemos a las claves o llaves\n",
    "dict1.keys()"
   ]
  },
  {
   "cell_type": "code",
   "execution_count": 122,
   "metadata": {},
   "outputs": [
    {
     "data": {
      "text/plain": [
       "dict_values(['Jane', 23, ['pizza', 'fruta', 'pescado']])"
      ]
     },
     "execution_count": 122,
     "metadata": {},
     "output_type": "execute_result"
    }
   ],
   "source": [
    "# Accedemos a los valores\n",
    "dict1.values()"
   ]
  },
  {
   "cell_type": "code",
   "execution_count": 123,
   "metadata": {
    "scrolled": true
   },
   "outputs": [
    {
     "data": {
      "text/plain": [
       "dict_items([('nombre', 'Jane'), ('edad', 23), ('comida_fav', ['pizza', 'fruta', 'pescado'])])"
      ]
     },
     "execution_count": 123,
     "metadata": {},
     "output_type": "execute_result"
    }
   ],
   "source": [
    "# Vemos los elementos que contiene\n",
    "dict1.items()"
   ]
  },
  {
   "cell_type": "markdown",
   "metadata": {
    "collapsed": true
   },
   "source": [
    "### <a id=\"metodos_list\" style=\"color:black\">5.1. Listas</a> \n",
    "\n",
    "Algunos métodos que tienen son:\n",
    "- **`.append(item)`** para agregar un solo elemento a la lista\n",
    "- **`.extend([item1, item2, ...])`** para agregar varios elementos a la lista\n",
    "- **`.remove(item)`** para eliminar un solo elemento de la lista\n",
    "- **`.pop()`** para eliminar y devolver el elemento al final de la lista\n",
    "- **`.pop(index)`** para eliminar y devolver un elemento en un índice"
   ]
  },
  {
   "cell_type": "code",
   "execution_count": 124,
   "metadata": {},
   "outputs": [],
   "source": [
    "# Se define una lista\n",
    "list1 = [3, 5, 6, 3, 'perro', 'gato', False]"
   ]
  },
  {
   "cell_type": "code",
   "execution_count": 125,
   "metadata": {},
   "outputs": [
    {
     "data": {
      "text/plain": [
       "[3, 5, 6, 3, 'perro', 'gato', False]"
      ]
     },
     "execution_count": 125,
     "metadata": {},
     "output_type": "execute_result"
    }
   ],
   "source": [
    "# Los elementos en el objeto de lista se almacenan en el orden en que se agregaron\n",
    "list1"
   ]
  },
  {
   "cell_type": "code",
   "execution_count": 126,
   "metadata": {},
   "outputs": [
    {
     "data": {
      "text/plain": [
       "[3, 5, 6, 3, 'perro', 'gato', False, 'nuevo_ele']"
      ]
     },
     "execution_count": 126,
     "metadata": {},
     "output_type": "execute_result"
    }
   ],
   "source": [
    "#Se agrega un elemento\n",
    "list1.append('nuevo_ele')\n",
    "list1"
   ]
  },
  {
   "cell_type": "code",
   "execution_count": 127,
   "metadata": {},
   "outputs": [
    {
     "data": {
      "text/plain": [
       "[3, 5, 6, 3, 'perro', 'gato', False]"
      ]
     },
     "execution_count": 127,
     "metadata": {},
     "output_type": "execute_result"
    }
   ],
   "source": [
    "#Se elimina el ultimo elemento\n",
    "list1.pop()\n",
    "list1"
   ]
  },
  {
   "cell_type": "code",
   "execution_count": 128,
   "metadata": {},
   "outputs": [
    {
     "data": {
      "text/plain": [
       "[3, 5, 6, 3, 'perro', 'gato', False, 5, 'uvas']"
      ]
     },
     "execution_count": 128,
     "metadata": {},
     "output_type": "execute_result"
    }
   ],
   "source": [
    "# agregan elemntos y re-asigna\n",
    "list1 += [5, 'uvas']\n",
    "list1"
   ]
  },
  {
   "cell_type": "code",
   "execution_count": 129,
   "metadata": {},
   "outputs": [
    {
     "data": {
      "text/plain": [
       "[3, 5, 6, 3, 'perro', 'gato', False, 5, 'uvas', 'elem_6', 'elem_7']"
      ]
     },
     "execution_count": 129,
     "metadata": {},
     "output_type": "execute_result"
    }
   ],
   "source": [
    "#Se agregan varios elementos\n",
    "list1.extend(['elem_6','elem_7'])\n",
    "list1"
   ]
  },
  {
   "cell_type": "code",
   "execution_count": 130,
   "metadata": {},
   "outputs": [
    {
     "data": {
      "text/plain": [
       "3"
      ]
     },
     "execution_count": 130,
     "metadata": {},
     "output_type": "execute_result"
    }
   ],
   "source": [
    "# Acceder al primer elemento de una lista\n",
    "list1[0]"
   ]
  },
  {
   "cell_type": "code",
   "execution_count": 131,
   "metadata": {},
   "outputs": [
    {
     "data": {
      "text/plain": [
       "['perro', 'gato', False, 5, 'uvas', 'elem_6', 'elem_7']"
      ]
     },
     "execution_count": 131,
     "metadata": {},
     "output_type": "execute_result"
    }
   ],
   "source": [
    "# Acceder a un rango específico de la lista, en la que se indica desde el índice 4 \n",
    "# Y los dos puntos indica que también se tomará todo lo siguiente al índice 4\n",
    "list1[4:]"
   ]
  },
  {
   "cell_type": "code",
   "execution_count": 132,
   "metadata": {},
   "outputs": [
    {
     "data": {
      "text/plain": [
       "[3, 5, 6, 3]"
      ]
     },
     "execution_count": 132,
     "metadata": {},
     "output_type": "execute_result"
    }
   ],
   "source": [
    "# Acceder a un rango específico de la lista, en la que se indica hasta antes del índice 4 \n",
    "# Y los dos puntos indica que también se tomará todo lo anterior al índice 4\n",
    "list1[:4]"
   ]
  },
  {
   "cell_type": "code",
   "execution_count": 133,
   "metadata": {},
   "outputs": [
    {
     "data": {
      "text/plain": [
       "['perro', 'gato']"
      ]
     },
     "execution_count": 133,
     "metadata": {},
     "output_type": "execute_result"
    }
   ],
   "source": [
    "# Acceder a un rango específico de la lista, en la que se indica desde el índice 4 al 5\n",
    "#El valor indicado luego de los dos puntos indica que será hasta antes del elemento de índice 6\n",
    "list1[4:6]"
   ]
  },
  {
   "cell_type": "code",
   "execution_count": 134,
   "metadata": {},
   "outputs": [
    {
     "data": {
      "text/plain": [
       "[3, 5, 6, 3, 'gato', False, 5, 'uvas', 'elem_6', 'elem_7']"
      ]
     },
     "execution_count": 134,
     "metadata": {},
     "output_type": "execute_result"
    }
   ],
   "source": [
    "#Se remueve un elemento de la lista por valor\n",
    "list1.remove('perro')\n",
    "list1"
   ]
  },
  {
   "cell_type": "code",
   "execution_count": 135,
   "metadata": {},
   "outputs": [
    {
     "data": {
      "text/plain": [
       "[3, 5, 6, 3, False, 5, 'uvas', 'elem_6', 'elem_7']"
      ]
     },
     "execution_count": 135,
     "metadata": {},
     "output_type": "execute_result"
    }
   ],
   "source": [
    "#Se remueve un elemento de la lista por orden de índice(que inicia desde 0)\n",
    "list1.pop(4) #Se está eliminando el 5to elemento que sería el valor gato\n",
    "list1"
   ]
  },
  {
   "cell_type": "markdown",
   "metadata": {},
   "source": [
    "### <a id=\"metodos_tuplas\" style=\"color:black\">5.2. Tuplas</a> "
   ]
  },
  {
   "cell_type": "code",
   "execution_count": 136,
   "metadata": {},
   "outputs": [],
   "source": [
    "# Se define una tupla\n",
    "tuple1 = (3, 5, 6, 3, 'perro', 'gato', False)"
   ]
  },
  {
   "cell_type": "code",
   "execution_count": 137,
   "metadata": {},
   "outputs": [
    {
     "data": {
      "text/plain": [
       "(3, 5, 6, 3, 'perro', 'gato', False)"
      ]
     },
     "execution_count": 137,
     "metadata": {},
     "output_type": "execute_result"
    }
   ],
   "source": [
    "# Los elementos del objeto tupla se almacenan en el orden en que se agregaron\n",
    "tuple1"
   ]
  },
  {
   "cell_type": "code",
   "execution_count": 138,
   "metadata": {},
   "outputs": [
    {
     "data": {
      "text/plain": [
       "(3, 5, 6, 3, 'perro', 'gato', False, 5, 'uvas')"
      ]
     },
     "execution_count": 138,
     "metadata": {},
     "output_type": "execute_result"
    }
   ],
   "source": [
    "# Se unen 2 tuplas y re-asigna\n",
    "tuple1 += (5, 'uvas')\n",
    "tuple1"
   ]
  },
  {
   "cell_type": "code",
   "execution_count": 139,
   "metadata": {},
   "outputs": [
    {
     "data": {
      "text/plain": [
       "'uvas'"
      ]
     },
     "execution_count": 139,
     "metadata": {},
     "output_type": "execute_result"
    }
   ],
   "source": [
    "# Acceder al ultimo elemento de una tupla\n",
    "tuple1[-1]"
   ]
  },
  {
   "cell_type": "code",
   "execution_count": 140,
   "metadata": {},
   "outputs": [
    {
     "data": {
      "text/plain": [
       "(3, 5, 6, 3, 'perro', 'gato')"
      ]
     },
     "execution_count": 140,
     "metadata": {},
     "output_type": "execute_result"
    }
   ],
   "source": [
    "# Acceder a un rango de elementos en una tupla\n",
    "tuple1[:-3]"
   ]
  },
  {
   "cell_type": "code",
   "execution_count": 141,
   "metadata": {},
   "outputs": [
    {
     "data": {
      "text/plain": [
       "(3, 5, 6, 3, 'gato', False, 5, 'uvas')"
      ]
     },
     "execution_count": 141,
     "metadata": {},
     "output_type": "execute_result"
    }
   ],
   "source": [
    "#Eliminar un elemento\n",
    "\n",
    "#Se convierte la tupla a list\n",
    "tuple1 = list(tuple1) \n",
    "#Se elimina el elemento\n",
    "tuple1.remove(\"perro\") \n",
    "#Se vuelve a convertir a tupla\n",
    "tuple1 = tuple(tuple1)\n",
    "\n",
    "tuple1"
   ]
  },
  {
   "cell_type": "markdown",
   "metadata": {},
   "source": [
    "### <a id=\"metodos_set\" style=\"color:black\">5.3. Set</a> \n",
    "\n",
    "Algunos de los métodos que tienen son:\n",
    "\n",
    "- **`.add(item)`** para agregar un solo elemento al conjunto\n",
    "- **`.update([item1, item2, ...])`** para agregar varios elementos al conjunto\n",
    "- **`.update(set2, set3, ...)`** para agregar elementos de todos los conjuntos proporcionados al conjunto\n",
    "- **`.remove(item)`** para eliminar un solo elemento del conjunto\n",
    "- **`.pop()`** para eliminar y devolver un elemento aleatorio del conjunto\n",
    "- **`.difference(set2)`** para devolver elementos en el conjunto que no están en otro conjunto\n",
    "- **`.intersection(set2)`** para devolver artículos en ambos conjuntos\n",
    "- **`.union(set2)`** para devolver elementos que están en cualquier conjunto\n",
    "- **`.symmetric_difference(set2)`** para devolver elementos que están solo en un conjunto (no en ambos)\n",
    "- **`.issuperset(set2)`** ¿el conjunto contiene todo lo que hay en el otro conjunto?\n",
    "- **`.issubset(set2)`** ¿el conjunto está contenido en el otro conjunto?"
   ]
  },
  {
   "cell_type": "code",
   "execution_count": 142,
   "metadata": {},
   "outputs": [],
   "source": [
    "# Se definen sets\n",
    "set1 = {3, 5, 6, 3, 'perro', 'gato', False}\n",
    "set2 = {2, 1, 3, 'caballo', 'gato', True}"
   ]
  },
  {
   "cell_type": "code",
   "execution_count": 143,
   "metadata": {},
   "outputs": [
    {
     "data": {
      "text/plain": [
       "{3, 5, 6, False, 'gato', 'perro'}"
      ]
     },
     "execution_count": 143,
     "metadata": {},
     "output_type": "execute_result"
    }
   ],
   "source": [
    "# Los elementos en el objeto establecido no se almacenan en el orden en que se agregaron\n",
    "# Además, observe que el valor 3 solo aparece una vez en este objeto establecido\n",
    "set1"
   ]
  },
  {
   "cell_type": "code",
   "execution_count": 144,
   "metadata": {},
   "outputs": [
    {
     "data": {
      "text/plain": [
       "{3, 5, 6, False, 'element_nuevo', 'gato', 'perro'}"
      ]
     },
     "execution_count": 144,
     "metadata": {},
     "output_type": "execute_result"
    }
   ],
   "source": [
    "#Se agrega un elemento al primer set\n",
    "set1.add('element_nuevo')\n",
    "set1"
   ]
  },
  {
   "cell_type": "code",
   "execution_count": 146,
   "metadata": {},
   "outputs": [
    {
     "data": {
      "text/plain": [
       "{3, 5, 6, False, 'element_nuevo', 'gato', 'item_4', 'item_5', 'perro'}"
      ]
     },
     "execution_count": 146,
     "metadata": {},
     "output_type": "execute_result"
    }
   ],
   "source": [
    "#Se agregan elementos al primer set\n",
    "set1.update(['item_4','item_5'])\n",
    "set1"
   ]
  },
  {
   "cell_type": "code",
   "execution_count": 147,
   "metadata": {},
   "outputs": [
    {
     "data": {
      "text/plain": [
       "{3, 6, False, 'element_nuevo', 'gato', 'item_4', 'item_5', 'perro'}"
      ]
     },
     "execution_count": 147,
     "metadata": {},
     "output_type": "execute_result"
    }
   ],
   "source": [
    "#Se elimina un elemento\n",
    "set1.remove(5)\n",
    "set1"
   ]
  },
  {
   "cell_type": "code",
   "execution_count": 148,
   "metadata": {},
   "outputs": [
    {
     "data": {
      "text/plain": [
       "{3, 'gato'}"
      ]
     },
     "execution_count": 148,
     "metadata": {},
     "output_type": "execute_result"
    }
   ],
   "source": [
    "#Vemos los elementos en comun entre ambos sets\n",
    "set1.intersection(set2)"
   ]
  },
  {
   "cell_type": "code",
   "execution_count": 149,
   "metadata": {},
   "outputs": [
    {
     "data": {
      "text/plain": [
       "{6, False, 'element_nuevo', 'item_4', 'item_5', 'perro'}"
      ]
     },
     "execution_count": 149,
     "metadata": {},
     "output_type": "execute_result"
    }
   ],
   "source": [
    "#Vemos los elementos que tienen el set 1 pero no el set 2\n",
    "set1.difference(set2)"
   ]
  },
  {
   "cell_type": "code",
   "execution_count": 150,
   "metadata": {},
   "outputs": [
    {
     "data": {
      "text/plain": [
       "{1, 2, 6, False, 'caballo', 'element_nuevo', 'item_4', 'item_5', 'perro'}"
      ]
     },
     "execution_count": 150,
     "metadata": {},
     "output_type": "execute_result"
    }
   ],
   "source": [
    "#Vemos los elementos que no que solo estén en uno de cualquiera de los dos set\n",
    "set1.symmetric_difference(set2)"
   ]
  },
  {
   "cell_type": "code",
   "execution_count": 151,
   "metadata": {},
   "outputs": [
    {
     "data": {
      "text/plain": [
       "{1,\n",
       " 2,\n",
       " 3,\n",
       " 6,\n",
       " False,\n",
       " 'caballo',\n",
       " 'element_nuevo',\n",
       " 'gato',\n",
       " 'item_4',\n",
       " 'item_5',\n",
       " 'perro'}"
      ]
     },
     "execution_count": 151,
     "metadata": {},
     "output_type": "execute_result"
    }
   ],
   "source": [
    "#Vemos todos los elementos de ambos sets, no se generan los duplicados por ser SET\n",
    "set1.union(set2)"
   ]
  },
  {
   "cell_type": "markdown",
   "metadata": {},
   "source": [
    "### <a id=\"metodos_dict\" style=\"color:black\">5.4. Diccionarios</a> \n",
    "\n",
    "Algunos de los métodos que tienen son:\n",
    "\n",
    "- **`.update([(key1, val1), (key2, val2), ...])`** para agregar múltiples pares clave-valor al dict\n",
    "- **`.update(dict2)`** para agregar todas las claves y valores de otro dict al dict\n",
    "- **`.pop(key)`** para eliminar la clave y devolver su valor del dict (error si no se encuentra la clave)\n",
    "- **`.pop(key, default_val)`** para eliminar la clave y devolver su valor del dict (o devolver default_val si no se encuentra la clave)\n",
    "- **`.get(key)`** para devolver el valor en una clave especificada en el dict (o Ninguno si no se encuentra la clave)\n",
    "- **`.get(key, default_val)`** para devolver el valor en una clave especificada en el dict (o default_val si no se encuentra la clave)\n",
    "- **`.keys()`** para devolver una lista de claves en el dict\n",
    "- **`.values()`** para devolver una lista de valores en el dict\n",
    "- **`.items()`** para devolver una lista de pares clave-valor (tuplas) en el dict"
   ]
  },
  {
   "cell_type": "code",
   "execution_count": 152,
   "metadata": {},
   "outputs": [],
   "source": [
    "# Se define un diccionario\n",
    "diccionario = {'a': 'alpha', 'o': 'omega', 'g': 'gamma'}"
   ]
  },
  {
   "cell_type": "code",
   "execution_count": 153,
   "metadata": {},
   "outputs": [
    {
     "data": {
      "text/plain": [
       "{'a': 'alpha', 'o': 'omega', 'g': 'gamma'}"
      ]
     },
     "execution_count": 153,
     "metadata": {},
     "output_type": "execute_result"
    }
   ],
   "source": [
    "diccionario"
   ]
  },
  {
   "cell_type": "code",
   "execution_count": 154,
   "metadata": {},
   "outputs": [
    {
     "data": {
      "text/plain": [
       "{'a': 'alpha', 'o': 'omega', 'g': 'gamma', 'b': 'beta'}"
      ]
     },
     "execution_count": 154,
     "metadata": {},
     "output_type": "execute_result"
    }
   ],
   "source": [
    "# Se agrega un elemento\n",
    "diccionario.update({'b':'beta'})\n",
    "diccionario"
   ]
  },
  {
   "cell_type": "code",
   "execution_count": 155,
   "metadata": {},
   "outputs": [
    {
     "data": {
      "text/plain": [
       "'alpha'"
      ]
     },
     "execution_count": 155,
     "metadata": {},
     "output_type": "execute_result"
    }
   ],
   "source": [
    "# Se obtiene el elemento especificando la llave\n",
    "diccionario.get('a')"
   ]
  },
  {
   "cell_type": "code",
   "execution_count": 156,
   "metadata": {},
   "outputs": [
    {
     "data": {
      "text/plain": [
       "dict_keys(['a', 'o', 'g', 'b'])"
      ]
     },
     "execution_count": 156,
     "metadata": {},
     "output_type": "execute_result"
    }
   ],
   "source": [
    "# Obtenemos las llaves del diccionario\n",
    "diccionario.keys()"
   ]
  },
  {
   "cell_type": "code",
   "execution_count": 157,
   "metadata": {},
   "outputs": [
    {
     "data": {
      "text/plain": [
       "dict_values(['alpha', 'omega', 'gamma', 'beta'])"
      ]
     },
     "execution_count": 157,
     "metadata": {},
     "output_type": "execute_result"
    }
   ],
   "source": [
    "# Obtenemos los valores del diccionario\n",
    "diccionario.values()"
   ]
  },
  {
   "cell_type": "code",
   "execution_count": 158,
   "metadata": {},
   "outputs": [
    {
     "data": {
      "text/plain": [
       "{'a': 'alpha', 'o': 'omega', 'g': 'gamma', 'b': 'beta', 'e': 'epsilon'}"
      ]
     },
     "execution_count": 158,
     "metadata": {},
     "output_type": "execute_result"
    }
   ],
   "source": [
    "# Agregar un elemento, se define primero la clave y luego el valor\n",
    "diccionario['e'] = 'epsilon'\n",
    "diccionario"
   ]
  },
  {
   "cell_type": "code",
   "execution_count": 159,
   "metadata": {},
   "outputs": [
    {
     "data": {
      "text/plain": [
       "{'a': 'alpha', 'g': 'gamma', 'b': 'beta', 'e': 'epsilon'}"
      ]
     },
     "execution_count": 159,
     "metadata": {},
     "output_type": "execute_result"
    }
   ],
   "source": [
    "# Se elimina un elemento\n",
    "del diccionario['o']\n",
    "diccionario"
   ]
  },
  {
   "cell_type": "markdown",
   "metadata": {},
   "source": [
    "### <a id=\"atributos_obj\" style=\"color:black\">6. Atributos de objetos de Python (métodos y propiedades)</a> \n",
    "\n",
    "Los diferentes tipos de objetos en Python tienen diferentes **atributos** a los que se puede hacer referencia por su nombre (similar a una variable). Para acceder a un atributo de un objeto, use un punto (`.`) después del objeto, luego especifique el atributo (es decir, `obj.attribute`)\n",
    "\n",
    "Cuando un atributo de un objeto es invocable, ese atributo se denomina **método**. Es lo mismo que una función, solo que esta función está vinculada a un objeto en particular.\n",
    "\n",
    "Cuando un atributo de un objeto no es invocable, ese atributo se denomina **propiedad**. Es solo un dato sobre el objeto, que en sí mismo es otro objeto.\n",
    "\n",
    "La función incorporada `dir()` se puede usar para devolver una lista de los atributos de un objeto.\n",
    "<hr>"
   ]
  },
  {
   "cell_type": "markdown",
   "metadata": {},
   "source": [
    "### <a id=\"funciones_int\" style=\"color:black\">7. Funciones integradas de Python e invocables</a> \n",
    "\n",
    "\n",
    "Una **función** es un objeto de Python al que puede \"llamar\" para **realizar una acción** o calcular y **devolver otro objeto**. Llamas a una función colocando paréntesis a la derecha del nombre de la función. Algunas funciones le permiten pasar **argumentos** dentro de los paréntesis (separando múltiples argumentos con una coma). Internos a la función, estos argumentos se tratan como variables.\n",
    "\n",
    "Python tiene varias funciones integradas útiles para ayudarlo a trabajar con diferentes objetos y/o su entorno. Aquí tienes una pequeña muestra de ellos:\n",
    "\n",
    "- **`type(obj)`** para determinar el tipo de objeto\n",
    "- **`len(container)`** para determinar cuantos elementos hay en el contenedor\n",
    "- **`sorted(container)`** devuelve una lista del contenedor, con sus elementos ordenados\n",
    "- **`sum(container)`** para obtener la suma de los elementos del contenedor\n",
    "- **`min(container)`** para determinar el menor elemento del contenedor\n",
    "- **`max(container)`** para determinar el mayor elemento del contenedor\n",
    "- **`abs(number)`** para obtener el valor absoluto de un numero\n",
    "\n",
    "Lista de las funciones integradas: https://docs.python.org/3/library/functions.html\n",
    "\n",
    "También hay diferentes formas de definir sus propias funciones y objetos invocables que exploraremos más adelante."
   ]
  },
  {
   "cell_type": "code",
   "execution_count": 160,
   "metadata": {},
   "outputs": [
    {
     "data": {
      "text/plain": [
       "str"
      ]
     },
     "execution_count": 160,
     "metadata": {},
     "output_type": "execute_result"
    }
   ],
   "source": [
    "# Use la funcion type() para determinar el tipo del objeto\n",
    "type(simple_string1)"
   ]
  },
  {
   "cell_type": "code",
   "execution_count": 161,
   "metadata": {},
   "outputs": [
    {
     "data": {
      "text/plain": [
       "3"
      ]
     },
     "execution_count": 161,
     "metadata": {},
     "output_type": "execute_result"
    }
   ],
   "source": [
    "# Use la funcion len() para determinar cuantos elementos tiene el contenedor\n",
    "len(dict1)"
   ]
  },
  {
   "cell_type": "code",
   "execution_count": 162,
   "metadata": {},
   "outputs": [
    {
     "data": {
      "text/plain": [
       "27"
      ]
     },
     "execution_count": 162,
     "metadata": {},
     "output_type": "execute_result"
    }
   ],
   "source": [
    "# Use la funcion len() para determinar cuantos elementos tiene el contenedor\n",
    "len(simple_string2)"
   ]
  },
  {
   "cell_type": "code",
   "execution_count": 163,
   "metadata": {},
   "outputs": [
    {
     "data": {
      "text/plain": [
       "[-3, 1, 2, 3.6, 5, 7, 10]"
      ]
     },
     "execution_count": 163,
     "metadata": {},
     "output_type": "execute_result"
    }
   ],
   "source": [
    "# Use la funcion sorted() para obtener una lista del contenedor, con los elementos ordenados\n",
    "sorted([10, 1, 3.6, 7, 5, 2, -3])"
   ]
  },
  {
   "cell_type": "code",
   "execution_count": 164,
   "metadata": {},
   "outputs": [
    {
     "data": {
      "text/plain": [
       "['California', 'Chicago', 'ants', 'cats', 'dogs', 'mice', 'zebras']"
      ]
     },
     "execution_count": 164,
     "metadata": {},
     "output_type": "execute_result"
    }
   ],
   "source": [
    "# Use la funcion sorted() para obtener una lista del contenedor, con los elementos ordenados\n",
    "# - Note que las mayusculas sea ordenan primero\n",
    "sorted(['dogs', 'cats', 'zebras', 'Chicago', 'California', 'ants', 'mice'])"
   ]
  },
  {
   "cell_type": "code",
   "execution_count": 165,
   "metadata": {},
   "outputs": [
    {
     "data": {
      "text/plain": [
       "25.6"
      ]
     },
     "execution_count": 165,
     "metadata": {},
     "output_type": "execute_result"
    }
   ],
   "source": [
    "# Use la funcion sum() para obtener la suma de los elementos del contenedor\n",
    "sum([10, 1, 3.6, 7, 5, 2, -3])"
   ]
  },
  {
   "cell_type": "code",
   "execution_count": 166,
   "metadata": {},
   "outputs": [
    {
     "data": {
      "text/plain": [
       "-3"
      ]
     },
     "execution_count": 166,
     "metadata": {},
     "output_type": "execute_result"
    }
   ],
   "source": [
    "# Use la funcion min() para obtener el menor elemento del contenedor\n",
    "min([10, 1, 3.6, 7, 5, 2, -3])"
   ]
  },
  {
   "cell_type": "code",
   "execution_count": 167,
   "metadata": {},
   "outputs": [
    {
     "data": {
      "text/plain": [
       "'a'"
      ]
     },
     "execution_count": 167,
     "metadata": {},
     "output_type": "execute_result"
    }
   ],
   "source": [
    "# Use la funcion min() para obtener el menor elemento del contenedor\n",
    "min(['g', 'z', 'a', 'y'])"
   ]
  },
  {
   "cell_type": "code",
   "execution_count": 168,
   "metadata": {},
   "outputs": [
    {
     "data": {
      "text/plain": [
       "10"
      ]
     },
     "execution_count": 168,
     "metadata": {},
     "output_type": "execute_result"
    }
   ],
   "source": [
    "# Use la funcion max() para obtener el mayor elemento del contenedor\n",
    "max([10, 1, 3.6, 7, 5, 2, -3])"
   ]
  },
  {
   "cell_type": "code",
   "execution_count": 169,
   "metadata": {},
   "outputs": [
    {
     "data": {
      "text/plain": [
       "'s'"
      ]
     },
     "execution_count": 169,
     "metadata": {},
     "output_type": "execute_result"
    }
   ],
   "source": [
    "# Use la funcion max() para obtener el menor elemento del contenedor\n",
    "max('gibberish')"
   ]
  },
  {
   "cell_type": "code",
   "execution_count": 170,
   "metadata": {},
   "outputs": [
    {
     "data": {
      "text/plain": [
       "10"
      ]
     },
     "execution_count": 170,
     "metadata": {},
     "output_type": "execute_result"
    }
   ],
   "source": [
    "# Use the abs() function to determine the absolute value of a number\n",
    "abs(10)"
   ]
  },
  {
   "cell_type": "code",
   "execution_count": 171,
   "metadata": {},
   "outputs": [
    {
     "data": {
      "text/plain": [
       "12"
      ]
     },
     "execution_count": 171,
     "metadata": {},
     "output_type": "execute_result"
    }
   ],
   "source": [
    "# Use la funcion abs() para obtener el valor absoluto del objeto\n",
    "abs(-12)"
   ]
  },
  {
   "cell_type": "markdown",
   "metadata": {},
   "source": [
    "### <a id=\"func_python\" style=\"color:black\">8. Funciones Python</a> \n",
    "\n",
    "Las funciones en Python serán una parte del código de nuestro programa encargadas de cumplir algún objetivo específico definido por nosotros o por el lenguaje, recibiendo ciertos “datos de entrada” (Argumentos) en los llamados Parámetros para procesarlos y brindarnos “datos de salida” o de retorno.\n",
    "\n",
    "Las funciones se definen de la siguiente manera:"
   ]
  },
  {
   "cell_type": "code",
   "execution_count": 172,
   "metadata": {},
   "outputs": [],
   "source": [
    "def funcion(param_1, param_2):\n",
    "    output = param_1+param_2\n",
    "    return output"
   ]
  },
  {
   "cell_type": "markdown",
   "metadata": {},
   "source": [
    "Donde \n",
    "* funcion: nombre de la funcion\n",
    "* param_1: primer parametro\n",
    "* param_2: segundo parametro\n",
    "* output: retorno o datos de salida"
   ]
  },
  {
   "cell_type": "code",
   "execution_count": 173,
   "metadata": {},
   "outputs": [
    {
     "data": {
      "text/plain": [
       "15"
      ]
     },
     "execution_count": 173,
     "metadata": {},
     "output_type": "execute_result"
    }
   ],
   "source": [
    "#Ejecutamos la función\n",
    "funcion(10,5)"
   ]
  },
  {
   "cell_type": "markdown",
   "metadata": {},
   "source": [
    "### <a id=\"bucle_for\" style=\"color:black\">9. Python \"bucle for\"</a> \n",
    "\n",
    "Es fácil **iterar** sobre una colección de elementos usando un **bucle for**. Las cadenas, listas, tuplas, conjuntos y diccionarios que definimos son todos contenedores **iterables**.\n",
    "\n",
    "El bucle for pasará por el contenedor especificado, un elemento a la vez, y proporcionará una variable temporal para el elemento actual. Puede utilizar esta variable temporal como una variable normal."
   ]
  },
  {
   "cell_type": "code",
   "execution_count": 174,
   "metadata": {},
   "outputs": [
    {
     "name": "stdout",
     "output_type": "stream",
     "text": [
      "1\n",
      "2\n",
      "3\n",
      "4\n",
      "5\n"
     ]
    }
   ],
   "source": [
    "for i in [1,2,3,4,5]:\n",
    "    print(i)"
   ]
  },
  {
   "cell_type": "code",
   "execution_count": 175,
   "metadata": {},
   "outputs": [
    {
     "name": "stdout",
     "output_type": "stream",
     "text": [
      "Balance para el mes 1 es: 2100.0\n",
      "Balance para el mes 2 es: 2205.0\n",
      "Balance para el mes 3 es: 2315.25\n",
      "Balance para el mes 4 es: 2431.0125\n",
      "Balance para el mes 5 es: 2552.5631249999997\n",
      "Balance para el mes 6 es: 2680.1912812499995\n",
      "Balance para el mes 7 es: 2814.2008453124995\n",
      "Balance para el mes 8 es: 2954.9108875781244\n"
     ]
    }
   ],
   "source": [
    "#Se escribe un programa que tome como entrada el saldo de apertura \n",
    "# y la tasa de interés mensual de una cuenta bancaria, \n",
    "# y luego calcule el saldo de cierre de cada mes durante un número determinado de meses.\n",
    "\n",
    "opening_balance = 2000\n",
    "interest_rate = 0.05 \n",
    "months = 8\n",
    "\n",
    "for i in range(1, months+1):\n",
    "    closing_balance = opening_balance + (opening_balance * interest_rate)\n",
    "    print(f\"Balance para el mes {i} es:\", closing_balance)\n",
    "    opening_balance = closing_balance"
   ]
  },
  {
   "cell_type": "markdown",
   "metadata": {},
   "source": [
    "### <a id=\"bucle_while\" style=\"color:black\">10. Python \"Condicional if \" and \"bucle while\"</a> \n",
    "\n",
    "Las expresiones condicionales se pueden usar con estas dos **sentencias condicionales**.\n",
    "\n",
    "El condicional **if** le permite probar una condición y realizar algunas acciones si la condición se evalúa como `Verdadero`. También puede proporcionar cláusulas `elif` y/o `else` a una declaración if para tomar acciones alternativas si la condición se evalúa como `False`.\n",
    "\n",
    "El bucle **while** continuará hasta que su expresión condicional se evalúe como `False`.\n",
    "\n",
    "> Nota: Es posible \"repetir para siempre\" cuando se usa un ciclo while con una expresión condicional que nunca se evalúa como `False`.\n",
    ">\n",
    "> Nota: Dado que **bucle for** iterará sobre un contenedor de elementos hasta que no haya más, no hay necesidad de especificar una condición de \"detener el bucle\"."
   ]
  },
  {
   "cell_type": "code",
   "execution_count": 176,
   "metadata": {},
   "outputs": [
    {
     "name": "stdout",
     "output_type": "stream",
     "text": [
      "El primer numero es mayor\n"
     ]
    }
   ],
   "source": [
    "#Condicional If\n",
    "if 8>5:\n",
    "    print('El primer numero es mayor')\n",
    "else:\n",
    "    print('El segundo numero es mayor')"
   ]
  },
  {
   "cell_type": "code",
   "execution_count": 177,
   "metadata": {},
   "outputs": [
    {
     "name": "stdout",
     "output_type": "stream",
     "text": [
      "El segundo numero es mayor\n"
     ]
    }
   ],
   "source": [
    "#Condicional If\n",
    "if 3>5:\n",
    "    print('El primer numero es mayor')\n",
    "else:\n",
    "    print('El segundo numero es mayor')"
   ]
  },
  {
   "cell_type": "code",
   "execution_count": 178,
   "metadata": {},
   "outputs": [
    {
     "name": "stdout",
     "output_type": "stream",
     "text": [
      "Felicitaciones! Eres elegible para un crédito.\n"
     ]
    }
   ],
   "source": [
    "credit_score = 900\n",
    "\n",
    "if credit_score >= 700:\n",
    "    print(\"Felicitaciones! Eres elegible para un crédito.\")\n",
    "else:\n",
    "    print(\"Disculpa, tu score crediticio no es suficientemente alto para califica a un crédito.\")"
   ]
  },
  {
   "cell_type": "code",
   "execution_count": 179,
   "metadata": {},
   "outputs": [
    {
     "name": "stdout",
     "output_type": "stream",
     "text": [
      "4\n"
     ]
    }
   ],
   "source": [
    "#Bucle While\n",
    "i = 0\n",
    "\n",
    "while i<4:\n",
    "    i+=1\n",
    "\n",
    "print(i)"
   ]
  },
  {
   "cell_type": "markdown",
   "metadata": {},
   "source": [
    "Se escribe el programa que calcula el interés compuesto de una cuenta bancaria, dado el saldo inicial(opening_balance), la tasa de interés mensual(interest_rate) y el número de meses(months). El programa debe usar un bucle while para calcular el saldo de cierre de cada mes y salir del bucle cuando el saldo de cierre supere cierto límite(threshold)."
   ]
  },
  {
   "cell_type": "code",
   "execution_count": 180,
   "metadata": {},
   "outputs": [
    {
     "name": "stdout",
     "output_type": "stream",
     "text": [
      "Balance a cierre del mes 1 es: 2100.0\n",
      "Balance a cierre del mes 2 es: 2315.25\n",
      "Balance a cierre del mes 3 es: 2680.1912812500004\n",
      "Balance a cierre del mes 4 es: 3257.789253554884\n"
     ]
    }
   ],
   "source": [
    "opening_balance = 2000\n",
    "interest_rate =  0.05\n",
    "months = 12\n",
    "threshold = 3000\n",
    "\n",
    "closing_balance = opening_balance\n",
    "i = 1\n",
    "\n",
    "while closing_balance <= threshold:\n",
    "    closing_balance = opening_balance * ((1 + interest_rate)**i)\n",
    "    print(f\"Balance a cierre del mes {i} es:\", closing_balance)\n",
    "    i += 1\n",
    "    opening_balance = closing_balance"
   ]
  },
  {
   "cell_type": "markdown",
   "metadata": {},
   "source": [
    "### <a id=\"crear_obj\" style=\"color:black\">11. Crear objetos a partir de argumentos u otros objetos</a> \n",
    "\n",
    "Los tipos y contenedores básicos que hemos usado hasta ahora proporcionan **constructores de tipos**:\n",
    "\n",
    "- `int()`\n",
    "- `float()`\n",
    "- `str()`\n",
    "- `list()`\n",
    "- `tuple()`\n",
    "- `set()`\n",
    "- `dict()`\n",
    "\n",
    "Hasta este punto, hemos estado definiendo objetos de estos tipos integrados utilizando algunos atajos sintácticos, ya que son muy comunes.\n",
    "\n",
    "A veces, tendrá un objeto de un tipo que necesita convertir a otro tipo. Use el **constructor de tipos** para el tipo de objeto que desea tener y pase el objeto que tiene actualmente."
   ]
  },
  {
   "cell_type": "markdown",
   "metadata": {},
   "source": [
    "### <a id=\"import_lib\" style=\"color:black\">12. Importación de Librerías</a> "
   ]
  },
  {
   "cell_type": "code",
   "execution_count": 181,
   "metadata": {},
   "outputs": [],
   "source": [
    "#Se importan las librerías y se establece su 'alias'\n",
    "import pandas as pd\n",
    "import numpy as np\n",
    "from scipy import stats as st\n",
    "import seaborn as sns\n",
    "import matplotlib.pyplot as plt\n",
    "import warnings\n",
    "warnings.filterwarnings(\"ignore\")\n",
    "import random"
   ]
  },
  {
   "cell_type": "code",
   "execution_count": 182,
   "metadata": {},
   "outputs": [],
   "source": [
    "#Se generan numeros aleatorios\n",
    "ran_numbers = np.random.normal(50, 15, size=(2, 1000))\n",
    "\n",
    "ran_numbers[0] = [18 if  i <= 18 else i for i in ran_numbers[0]]\n",
    "ran_numbers[1] = [1 if  i <= 0 else i for i in ran_numbers[1]]\n",
    "\n",
    "\n",
    "edad = ran_numbers[0].astype(int)\n",
    "salario = ran_numbers[1].astype(int)*1000"
   ]
  },
  {
   "cell_type": "markdown",
   "metadata": {},
   "source": [
    "### <a id=\"estadisticos\" style=\"color:black\">13. Estadísticos</a> "
   ]
  },
  {
   "cell_type": "markdown",
   "metadata": {},
   "source": [
    "Las **medidas de tendencia central**, son herramientas utilizadas para  medir estadísticas cuyo objetivo es resumir en un solo valor a un conjunto de valores, y de esta manera representar un centro en al cual se deben encontrar ubicados en conjunto los datos. Existe varias medidas de tendencia central, sin embargo, las más utilizadas son: \n",
    "* media\n",
    "* mediana\n",
    "* moda"
   ]
  },
  {
   "cell_type": "markdown",
   "metadata": {},
   "source": [
    "Se utilizará valores de edad para los siguientes resultados"
   ]
  },
  {
   "cell_type": "code",
   "execution_count": 183,
   "metadata": {},
   "outputs": [
    {
     "data": {
      "text/plain": [
       "49.017"
      ]
     },
     "execution_count": 183,
     "metadata": {},
     "output_type": "execute_result"
    }
   ],
   "source": [
    "#Media\n",
    "np.mean(edad)"
   ]
  },
  {
   "cell_type": "code",
   "execution_count": 184,
   "metadata": {},
   "outputs": [
    {
     "data": {
      "text/plain": [
       "49.0"
      ]
     },
     "execution_count": 184,
     "metadata": {},
     "output_type": "execute_result"
    }
   ],
   "source": [
    "#Media\n",
    "np.median(edad)"
   ]
  },
  {
   "cell_type": "code",
   "execution_count": 185,
   "metadata": {},
   "outputs": [
    {
     "data": {
      "text/plain": [
       "ModeResult(mode=array([49]), count=array([36]))"
      ]
     },
     "execution_count": 185,
     "metadata": {},
     "output_type": "execute_result"
    }
   ],
   "source": [
    "#Media\n",
    "st.mode(edad)"
   ]
  },
  {
   "cell_type": "markdown",
   "metadata": {},
   "source": [
    "También, es importante mencionar las **medidas de dispersión.** Podemos decir que estas son las que entregan información sobre la variación de la variable, con las que se pretende resumir dentro de un solo valor la dispersión que puede tener un conjunto de datos. Las más utilizadas son:\n",
    "* Varianza: la varianza es la más generalizada y la mejor medida de dispersión.\n",
    "* Rango de variación: es una medición que se define como la diferencia que existe entre valor mayor de una variable y el valor menor de la misma.\n",
    "* Desviación estándar: también llamada desviación típica, es la medida la cual nos ofrece información sobre la dispersión de la media de las variables, está por lo general es mayor o igual a cero.\n",
    "* Coeficiente de variación: se describe como la medida relativa de la dispersión de los datos, pues la podemos definir como una desviación estándar que se realiza de una muestra, por ejemplo; un porcentaje de la media central."
   ]
  },
  {
   "cell_type": "code",
   "execution_count": 186,
   "metadata": {},
   "outputs": [
    {
     "data": {
      "text/plain": [
       "225.864711"
      ]
     },
     "execution_count": 186,
     "metadata": {},
     "output_type": "execute_result"
    }
   ],
   "source": [
    "#Varianza\n",
    "np.var(edad)"
   ]
  },
  {
   "cell_type": "code",
   "execution_count": 187,
   "metadata": {},
   "outputs": [
    {
     "data": {
      "text/plain": [
       "15.028796059565117"
      ]
     },
     "execution_count": 187,
     "metadata": {},
     "output_type": "execute_result"
    }
   ],
   "source": [
    "#Desviación Estandar\n",
    "np.std(edad)"
   ]
  },
  {
   "cell_type": "code",
   "execution_count": 188,
   "metadata": {},
   "outputs": [
    {
     "data": {
      "text/plain": [
       "74"
      ]
     },
     "execution_count": 188,
     "metadata": {},
     "output_type": "execute_result"
    }
   ],
   "source": [
    "#Rango de Variación\n",
    "np.max(edad)-np.min(edad)"
   ]
  },
  {
   "cell_type": "code",
   "execution_count": 189,
   "metadata": {},
   "outputs": [
    {
     "data": {
      "text/plain": [
       "0.3066037509346781"
      ]
     },
     "execution_count": 189,
     "metadata": {},
     "output_type": "execute_result"
    }
   ],
   "source": [
    "#Coeficiente de variación\n",
    "np.std(edad)/np.mean(edad)"
   ]
  },
  {
   "cell_type": "markdown",
   "metadata": {},
   "source": [
    "## Gráfico de 1 variables"
   ]
  },
  {
   "cell_type": "code",
   "execution_count": 190,
   "metadata": {},
   "outputs": [
    {
     "data": {
      "image/png": "[encoded data removed]",
      "text/plain": [
       "<Figure size 1440x504 with 1 Axes>"
      ]
     },
     "metadata": {
      "needs_background": "light"
     },
     "output_type": "display_data"
    }
   ],
   "source": [
    "## from matplotlib import pyplot as plt\n",
    "import pandas as pd\n",
    "import seaborn as sns\n",
    "\n",
    "plt.figure(figsize=(20,7))\n",
    "\n",
    "mean=np.mean(edad)\n",
    "median=np.median(edad)\n",
    "mode=st.mode(edad)[0][0]\n",
    "\n",
    "sns.kdeplot(data=edad)\n",
    "plt.axvline(mean, color='r', linestyle='--', label=\"Mean\")\n",
    "plt.axvline(median, color='g', linestyle='-', label=\"Median\")\n",
    "plt.axvline(mode, color='b', linestyle='-', label=\"Mode\")\n",
    "plt.legend(fontsize=20)\n",
    "plt.xticks(fontsize=20)\n",
    "plt.yticks(fontsize=20)\n",
    "\n",
    "plt.show()"
   ]
  },
  {
   "cell_type": "code",
   "execution_count": 191,
   "metadata": {},
   "outputs": [
    {
     "data": {
      "image/png": "[encoded data removed]",
      "text/plain": [
       "<Figure size 864x252 with 2 Axes>"
      ]
     },
     "metadata": {
      "needs_background": "light"
     },
     "output_type": "display_data"
    }
   ],
   "source": [
    "import pandas as pd\n",
    "import numpy as np\n",
    "import seaborn as sns\n",
    "from matplotlib import pyplot as plt\n",
    "plt.rcParams[\"figure.figsize\"] = [12, 3.50]\n",
    "plt.rcParams[\"figure.autolayout\"] = True\n",
    "f, axes = plt.subplots(1, 2)\n",
    "df = pd.DataFrame(dict(col1=np.linspace(1, 10, 5), col2=np.linspace(1, 10, 5)))\n",
    "sns.histplot(edad,  ax=axes[0])\n",
    "sns.boxplot(edad, ax=axes[1])\n",
    "\n",
    "axes[0].title.set_text('Histograma')\n",
    "axes[1].title.set_text('BoxPlot')\n",
    "\n",
    "plt.show()\n"
   ]
  },
  {
   "cell_type": "markdown",
   "metadata": {},
   "source": [
    "## Gráfico de 2 variables"
   ]
  },
  {
   "cell_type": "markdown",
   "metadata": {
    "collapsed": true
   },
   "source": [
    "Se utilizará edad y salario"
   ]
  },
  {
   "cell_type": "code",
   "execution_count": 192,
   "metadata": {},
   "outputs": [
    {
     "data": {
      "image/png": "[encoded data removed]",
      "text/plain": [
       "<Figure size 864x252 with 1 Axes>"
      ]
     },
     "metadata": {
      "needs_background": "light"
     },
     "output_type": "display_data"
    }
   ],
   "source": [
    "sns.scatterplot(x=edad, y = salario)\n",
    "plt.title('SCATTER PLOT ENTRE EDAD Y SALARIO')\n",
    "plt.xlabel('EDAD')\n",
    "plt.ylabel('SALARIO')\n",
    "plt.show()"
   ]
  },
  {
   "cell_type": "code",
   "execution_count": 193,
   "metadata": {},
   "outputs": [],
   "source": [
    "edad = pd.Series(edad)\n",
    "salario = pd.Series(salario)"
   ]
  },
  {
   "cell_type": "markdown",
   "metadata": {},
   "source": [
    "### Correlación"
   ]
  },
  {
   "cell_type": "markdown",
   "metadata": {},
   "source": [
    "La correlación de Pearson y la correlación de Spearman son dos medidas comunes de correlación entre dos variables. Se utilizan para determinar si existe una relación entre dos variables y, de ser así, la fuerza y dirección de esa relación.\n",
    "\n",
    "La principal diferencia entre la correlación de Pearson y la correlación de Spearman es que la correlación de Pearson mide la fuerza de una relación lineal entre dos variables, mientras que la correlación de Spearman mide la fuerza de una relación monótona entre dos variables."
   ]
  },
  {
   "cell_type": "markdown",
   "metadata": {},
   "source": [
    "##### Correlación de Pearson\n",
    "\n",
    "* Utilice la correlación de Pearson cuando ambas variables sean continuas y se espere que la relación entre ellas sea lineal. Por ejemplo, la correlación de Pearson se usa comúnmente en la investigación en psicología para medir la relación entre dos variables continuas, como la relación entre la edad y el rendimiento de la memoria.\n",
    "\n",
    "* Use la correlación de Pearson cuando las variables se distribuyen normalmente. La correlación de Pearson asume que las variables se distribuyen normalmente, mientras que la correlación de Spearman no hace esta suposición. Si las variables no se distribuyen normalmente, la correlación de Spearman puede ser más apropiada."
   ]
  },
  {
   "cell_type": "markdown",
   "metadata": {},
   "source": [
    "**Los valores van desde -1 hasta +1. Si se tiene una correlación de +1 o -1, nos indica que es una correlación perfecta, positiva o negativa respectivamente**"
   ]
  },
  {
   "cell_type": "markdown",
   "metadata": {
    "collapsed": true
   },
   "source": [
    "<img src=\"https://www.researchgate.net/publication/345693737/figure/tbl1/AS:956412914040832@1605038016475/The-scale-of-Pearsons-Correlation-Coefficient.png\" width=\"500\" height=\"500\">\n"
   ]
  },
  {
   "cell_type": "code",
   "execution_count": 212,
   "metadata": {},
   "outputs": [
    {
     "name": "stdout",
     "output_type": "stream",
     "text": [
      "Coeficiente de correlacion de Pearson :  -0.0130555562871974\n"
     ]
    }
   ],
   "source": [
    "corr, _ = pearsonr(edad, salario)\n",
    "print(\"Coeficiente de correlacion de Pearson : \", corr)"
   ]
  },
  {
   "cell_type": "markdown",
   "metadata": {},
   "source": [
    "Lo que nos indica según la tabla que existe una correlación negativa muy debil entre ambas variables."
   ]
  },
  {
   "cell_type": "markdown",
   "metadata": {},
   "source": [
    "##### Correlación de Spearman\n",
    "\n",
    "* Utilice la correlación de Spearman cuando una o ambas variables sean ordinales o se espere que la relación entre ellas no sea lineal. Por ejemplo, la correlación de Spearman se usa comúnmente en la investigación del cuidado de la salud para medir la relación entre dos variables ordinales, como la relación entre el nivel de dolor de un paciente (medido en una escala de 0 a 10) y su movilidad.\n",
    "\n",
    "* Utilice la correlación de Spearman cuando pueda haber valores atípicos en los datos. La correlación de Pearson es sensible a los valores atípicos, y un solo valor atípico puede afectar sustancialmente el coeficiente de correlación. La correlación de Spearman es menos sensible a los valores atípicos porque solo considera el orden de clasificación de los datos, no los valores reales.\n",
    "\n",
    "\n",
    "En resumen, la correlación de Pearson se usa cuando ambas variables son continuas y se espera que la relación entre ellas sea lineal, mientras que la correlación de Spearman se usa cuando una o ambas variables son ordinales o se espera que la relación entre ellas sea no lineal o si existe son valores atípicos en los datos."
   ]
  },
  {
   "cell_type": "markdown",
   "metadata": {},
   "source": [
    "**Los valores van desde -1 hasta +1. Si se tiene una correlación de +1 o -1, nos indica que es una correlación perfecta, positiva o negativa respectivamente**"
   ]
  },
  {
   "cell_type": "markdown",
   "metadata": {
    "collapsed": true
   },
   "source": [
    "<img src=\"https://www.researchgate.net/publication/331096265/figure/tbl2/AS:726205993086981@1550152409944/Grading-table-of-Spearman-correlation-coefficient-r.png\" width=\"500\" height=\"500\">\n"
   ]
  },
  {
   "cell_type": "code",
   "execution_count": 215,
   "metadata": {},
   "outputs": [
    {
     "name": "stdout",
     "output_type": "stream",
     "text": [
      "Coeficiente de correlacion de Spearman :  -0.013296796701084407\n"
     ]
    }
   ],
   "source": [
    "from scipy.stats import pearsonr, spearmanr\n",
    "\n",
    "corr, _ = spearmanr(edad, salario)\n",
    "\n",
    "print(\"Coeficiente de correlacion de Spearman : \", corr)"
   ]
  },
  {
   "cell_type": "markdown",
   "metadata": {},
   "source": [
    "Lo que nos indica según la tabla que existe una correlación negativa muy debil entre ambas variables."
   ]
  },
  {
   "cell_type": "markdown",
   "metadata": {},
   "source": [
    "### Distribución Normal"
   ]
  },
  {
   "cell_type": "markdown",
   "metadata": {},
   "source": [
    "Una distribución normal es una distribución estadística que describe una curva de datos simétrica en forma de campana. En una distribución normal, la media, la mediana y la moda son todas iguales, y la curva está definida por dos parámetros: la media (µ) y la desviación estándar (σ).\n",
    "\n",
    "En Python, puede generar una distribución normal utilizando el módulo aleatorio de la biblioteca estándar de Python. Específicamente, la función random.normalvariate() genera números aleatorios que siguen una distribución normal con una media y una desviación estándar específicas. En la siguiente celda se detalla un ejemplo:"
   ]
  },
  {
   "cell_type": "code",
   "execution_count": 197,
   "metadata": {},
   "outputs": [],
   "source": [
    "import random\n",
    "\n",
    "mu = 0   # media\n",
    "sigma = 1   # desviacion estandar\n",
    "\n",
    "# Genera 1000 numbers aleatorios de una distribucion normal con media 0 y desviacion estandar 1\n",
    "data = [random.normalvariate(mu, sigma) for _ in range(1000)]"
   ]
  },
  {
   "cell_type": "markdown",
   "metadata": {},
   "source": [
    "Este código genera una lista de 1000 números aleatorios que siguen una distribución normal con una media de 0 y una desviación estándar de 1. Puedes ajustar los valores de mu y sigma para generar una distribución normal con diferentes parámetros."
   ]
  },
  {
   "cell_type": "code",
   "execution_count": 203,
   "metadata": {},
   "outputs": [
    {
     "data": {
      "text/plain": [
       "-3.6437386073109805"
      ]
     },
     "execution_count": 203,
     "metadata": {},
     "output_type": "execute_result"
    }
   ],
   "source": [
    "st.mode(data)[0][0]"
   ]
  },
  {
   "cell_type": "code",
   "execution_count": 206,
   "metadata": {
    "scrolled": true
   },
   "outputs": [
    {
     "data": {
      "image/png": "[encoded data removed]",
      "text/plain": [
       "<Figure size 1440x504 with 1 Axes>"
      ]
     },
     "metadata": {
      "needs_background": "light"
     },
     "output_type": "display_data"
    }
   ],
   "source": [
    "## from matplotlib import pyplot as plt\n",
    "import pandas as pd\n",
    "import seaborn as sns\n",
    "\n",
    "plt.figure(figsize=(20,7))\n",
    "\n",
    "mean=np.mean(data)\n",
    "median=np.median(data)\n",
    "\n",
    "sns.kdeplot(data)\n",
    "plt.axvline(mean, color='r', linestyle='--', label=\"Mean\")\n",
    "plt.axvline(median, color='g', linestyle='-', label=\"Median\")\n",
    "plt.legend(fontsize=20)\n",
    "plt.xticks(fontsize=20)\n",
    "plt.yticks(fontsize=20)\n",
    "\n",
    "plt.show()"
   ]
  },
  {
   "cell_type": "markdown",
   "metadata": {},
   "source": [
    "La distribución normal es importante en el análisis porque es una distribución de probabilidad muy común que ocurre en muchos fenómenos naturales y errores de medición. Tiene varias propiedades importantes, incluida su forma simétrica, el hecho de que su media, mediana y moda son todas iguales, y su comportamiento predecible basado en su media y desviación estándar.\n",
    "\n",
    "Algunas razones clave por las que la distribución normal es importante en el análisis incluyen:\n",
    "\n",
    "* Muchas pruebas estadísticas asumen normalidad: muchas pruebas estadísticas, como las pruebas t y ANOVA, asumen que los datos que se analizan tienen una distribución normal. Si los datos no se distribuyen normalmente, los resultados del análisis pueden ser inexactos o engañosos.\n",
    "\n",
    "* Facilita el análisis y la interpretación de los datos: la distribución normal facilita el análisis y la interpretación de los datos porque tiene una forma predecible y se pueden calcular las probabilidades asociadas con diferentes valores. Esto puede ser particularmente útil en campos como las finanzas y la economía, donde el modelado preciso de las probabilidades es importante.\n",
    "\n",
    "* Ayuda en la toma de decisiones: la distribución normal se puede usar para estimar la probabilidad de eventos futuros, lo que puede ser útil en la toma de decisiones. Por ejemplo, una empresa puede usar la distribución normal para estimar la probabilidad de que las ventas alcancen un objetivo determinado o la probabilidad de que un evento determinado afecte sus operaciones.\n",
    "\n",
    "* Ayuda a detectar valores atípicos: la distribución normal se puede usar para identificar valores atípicos o puntos de datos inusuales que están lejos de la media, lo que puede ser útil para identificar errores o anomalías en los datos.\n",
    "\n",
    "* En general, la distribución normal es un concepto importante en las estadísticas y el análisis de datos, y comprender sus propiedades puede ayudar a los investigadores y analistas a tomar decisiones más precisas e informadas en función de sus datos."
   ]
  },
  {
   "cell_type": "markdown",
   "metadata": {},
   "source": [
    "**Propiedades**\n",
    "\n",
    "Las propiedades de una distribución normal incluyen:\n",
    "\n",
    "* La distribución es simétrica: La curva es simétrica alrededor de la media (µ), que es el pico de la curva. La forma de la curva es tal que el área bajo la curva a la izquierda de la media es igual al área bajo la curva a la derecha de la media.\n",
    "\n",
    "* La media, la mediana y la moda son todas iguales: en una distribución normal, la media, la mediana y la moda tienen el mismo valor.\n",
    "\n",
    "* La distribución está definida por dos parámetros: la media (µ) y la desviación estándar (σ) determinan la forma de la curva. La media determina el centro de la curva, mientras que la desviación estándar determina la extensión o el ancho de la curva.\n",
    "\n",
    "* La curva se acerca pero nunca toca el eje x: las colas de la curva se extienden infinitamente en ambas direcciones, pero la curva se acerca pero nunca toca el eje x.\n",
    "\n",
    "* El área total bajo la curva es igual a 1: El área bajo la curva representa la probabilidad de que ocurra un resultado dado, y el área total bajo la curva debe ser igual a 1."
   ]
  },
  {
   "cell_type": "markdown",
   "metadata": {},
   "source": [
    "### <a id=\"pandas\" style=\"color:black\">14. Librería Pandas</a> \n",
    "\n",
    "Pandas es la librería más utilizada para analizar data"
   ]
  },
  {
   "cell_type": "markdown",
   "metadata": {},
   "source": [
    "**¿Qué es una serie?**\n",
    "\n",
    "Una Serie Pandas es como una columna en una tabla. Es una matriz unidimensional que contiene datos de cualquier tipo."
   ]
  },
  {
   "cell_type": "code",
   "execution_count": 176,
   "metadata": {},
   "outputs": [
    {
     "name": "stdout",
     "output_type": "stream",
     "text": [
      "0    1\n",
      "1    7\n",
      "2    2\n",
      "dtype: int64\n"
     ]
    }
   ],
   "source": [
    "a = [1, 7, 2]\n",
    "\n",
    "myvar = pd.Series(a)\n",
    "\n",
    "print(myvar)"
   ]
  },
  {
   "cell_type": "markdown",
   "metadata": {},
   "source": [
    "**¿Qué es un DataFrame?**\n",
    "\n",
    "Un Pandas DataFrame es una estructura de datos bidimensional, como una matriz bidimensional o una tabla con filas y columnas."
   ]
  },
  {
   "cell_type": "code",
   "execution_count": 216,
   "metadata": {},
   "outputs": [
    {
     "data": {
      "text/html": [
       "<div>\n",
       "<style scoped>\n",
       "    .dataframe tbody tr th:only-of-type {\n",
       "        vertical-align: middle;\n",
       "    }\n",
       "\n",
       "    .dataframe tbody tr th {\n",
       "        vertical-align: top;\n",
       "    }\n",
       "\n",
       "    .dataframe thead th {\n",
       "        text-align: right;\n",
       "    }\n",
       "</style>\n",
       "<table border=\"1\" class=\"dataframe\">\n",
       "  <thead>\n",
       "    <tr style=\"text-align: right;\">\n",
       "      <th></th>\n",
       "      <th>calories</th>\n",
       "      <th>duration</th>\n",
       "      <th>distance</th>\n",
       "    </tr>\n",
       "  </thead>\n",
       "  <tbody>\n",
       "    <tr>\n",
       "      <th>0</th>\n",
       "      <td>420</td>\n",
       "      <td>50</td>\n",
       "      <td>10</td>\n",
       "    </tr>\n",
       "    <tr>\n",
       "      <th>1</th>\n",
       "      <td>380</td>\n",
       "      <td>40</td>\n",
       "      <td>40</td>\n",
       "    </tr>\n",
       "    <tr>\n",
       "      <th>2</th>\n",
       "      <td>390</td>\n",
       "      <td>45</td>\n",
       "      <td>20</td>\n",
       "    </tr>\n",
       "    <tr>\n",
       "      <th>3</th>\n",
       "      <td>650</td>\n",
       "      <td>52</td>\n",
       "      <td>14</td>\n",
       "    </tr>\n",
       "    <tr>\n",
       "      <th>4</th>\n",
       "      <td>440</td>\n",
       "      <td>76</td>\n",
       "      <td>42</td>\n",
       "    </tr>\n",
       "    <tr>\n",
       "      <th>5</th>\n",
       "      <td>264</td>\n",
       "      <td>23</td>\n",
       "      <td>42</td>\n",
       "    </tr>\n",
       "    <tr>\n",
       "      <th>6</th>\n",
       "      <td>345</td>\n",
       "      <td>23</td>\n",
       "      <td>30</td>\n",
       "    </tr>\n",
       "    <tr>\n",
       "      <th>7</th>\n",
       "      <td>789</td>\n",
       "      <td>53</td>\n",
       "      <td>35</td>\n",
       "    </tr>\n",
       "  </tbody>\n",
       "</table>\n",
       "</div>"
      ],
      "text/plain": [
       "   calories  duration  distance\n",
       "0       420        50        10\n",
       "1       380        40        40\n",
       "2       390        45        20\n",
       "3       650        52        14\n",
       "4       440        76        42\n",
       "5       264        23        42\n",
       "6       345        23        30\n",
       "7       789        53        35"
      ]
     },
     "execution_count": 216,
     "metadata": {},
     "output_type": "execute_result"
    }
   ],
   "source": [
    "data = {\n",
    "  \"calories\": [420, 380, 390,650,440,264,345,789],\n",
    "  \"duration\": [50, 40, 45,52,76,23,23,53], \n",
    "  \"distance\": [10,40,20,14,42,42,30,35]\n",
    "}\n",
    "\n",
    "#Se carga la data a un DataFrame:\n",
    "df = pd.DataFrame(data)\n",
    "\n",
    "df"
   ]
  },
  {
   "cell_type": "markdown",
   "metadata": {},
   "source": [
    "Uno de los métodos más utilizados para obtener una visión general rápida del DataFrame es el método head().\n",
    "\n",
    "El método head() devuelve los encabezados y un número específico de filas, comenzando desde arriba."
   ]
  },
  {
   "cell_type": "code",
   "execution_count": 217,
   "metadata": {
    "scrolled": true
   },
   "outputs": [
    {
     "data": {
      "text/html": [
       "<div>\n",
       "<style scoped>\n",
       "    .dataframe tbody tr th:only-of-type {\n",
       "        vertical-align: middle;\n",
       "    }\n",
       "\n",
       "    .dataframe tbody tr th {\n",
       "        vertical-align: top;\n",
       "    }\n",
       "\n",
       "    .dataframe thead th {\n",
       "        text-align: right;\n",
       "    }\n",
       "</style>\n",
       "<table border=\"1\" class=\"dataframe\">\n",
       "  <thead>\n",
       "    <tr style=\"text-align: right;\">\n",
       "      <th></th>\n",
       "      <th>calories</th>\n",
       "      <th>duration</th>\n",
       "      <th>distance</th>\n",
       "    </tr>\n",
       "  </thead>\n",
       "  <tbody>\n",
       "    <tr>\n",
       "      <th>0</th>\n",
       "      <td>420</td>\n",
       "      <td>50</td>\n",
       "      <td>10</td>\n",
       "    </tr>\n",
       "    <tr>\n",
       "      <th>1</th>\n",
       "      <td>380</td>\n",
       "      <td>40</td>\n",
       "      <td>40</td>\n",
       "    </tr>\n",
       "  </tbody>\n",
       "</table>\n",
       "</div>"
      ],
      "text/plain": [
       "   calories  duration  distance\n",
       "0       420        50        10\n",
       "1       380        40        40"
      ]
     },
     "execution_count": 217,
     "metadata": {},
     "output_type": "execute_result"
    }
   ],
   "source": [
    "df.head(2)"
   ]
  },
  {
   "cell_type": "markdown",
   "metadata": {},
   "source": [
    "Veremos las columnas del dataframe"
   ]
  },
  {
   "cell_type": "code",
   "execution_count": 218,
   "metadata": {},
   "outputs": [
    {
     "data": {
      "text/plain": [
       "Index(['calories', 'duration', 'distance'], dtype='object')"
      ]
     },
     "execution_count": 218,
     "metadata": {},
     "output_type": "execute_result"
    }
   ],
   "source": [
    "df.columns"
   ]
  },
  {
   "cell_type": "markdown",
   "metadata": {},
   "source": [
    "El objeto DataFrames tiene un método llamado info(), que le brinda más información sobre el conjunto de datos."
   ]
  },
  {
   "cell_type": "code",
   "execution_count": 219,
   "metadata": {},
   "outputs": [
    {
     "name": "stdout",
     "output_type": "stream",
     "text": [
      "<class 'pandas.core.frame.DataFrame'>\n",
      "RangeIndex: 8 entries, 0 to 7\n",
      "Data columns (total 3 columns):\n",
      " #   Column    Non-Null Count  Dtype\n",
      "---  ------    --------------  -----\n",
      " 0   calories  8 non-null      int64\n",
      " 1   duration  8 non-null      int64\n",
      " 2   distance  8 non-null      int64\n",
      "dtypes: int64(3)\n",
      "memory usage: 320.0 bytes\n"
     ]
    }
   ],
   "source": [
    "df.info()"
   ]
  },
  {
   "cell_type": "markdown",
   "metadata": {},
   "source": [
    "Los filtros sobre los DataFrames se definen con corchetes de la siguiente manera:"
   ]
  },
  {
   "cell_type": "code",
   "execution_count": 220,
   "metadata": {},
   "outputs": [
    {
     "data": {
      "text/html": [
       "<div>\n",
       "<style scoped>\n",
       "    .dataframe tbody tr th:only-of-type {\n",
       "        vertical-align: middle;\n",
       "    }\n",
       "\n",
       "    .dataframe tbody tr th {\n",
       "        vertical-align: top;\n",
       "    }\n",
       "\n",
       "    .dataframe thead th {\n",
       "        text-align: right;\n",
       "    }\n",
       "</style>\n",
       "<table border=\"1\" class=\"dataframe\">\n",
       "  <thead>\n",
       "    <tr style=\"text-align: right;\">\n",
       "      <th></th>\n",
       "      <th>calories</th>\n",
       "      <th>duration</th>\n",
       "      <th>distance</th>\n",
       "    </tr>\n",
       "  </thead>\n",
       "  <tbody>\n",
       "    <tr>\n",
       "      <th>3</th>\n",
       "      <td>650</td>\n",
       "      <td>52</td>\n",
       "      <td>14</td>\n",
       "    </tr>\n",
       "  </tbody>\n",
       "</table>\n",
       "</div>"
      ],
      "text/plain": [
       "   calories  duration  distance\n",
       "3       650        52        14"
      ]
     },
     "execution_count": 220,
     "metadata": {},
     "output_type": "execute_result"
    }
   ],
   "source": [
    "#Se filtran aquellos con valor 650 en la columna calories\n",
    "df[df['calories']==650]"
   ]
  },
  {
   "cell_type": "code",
   "execution_count": 221,
   "metadata": {
    "scrolled": true
   },
   "outputs": [
    {
     "data": {
      "text/html": [
       "<div>\n",
       "<style scoped>\n",
       "    .dataframe tbody tr th:only-of-type {\n",
       "        vertical-align: middle;\n",
       "    }\n",
       "\n",
       "    .dataframe tbody tr th {\n",
       "        vertical-align: top;\n",
       "    }\n",
       "\n",
       "    .dataframe thead th {\n",
       "        text-align: right;\n",
       "    }\n",
       "</style>\n",
       "<table border=\"1\" class=\"dataframe\">\n",
       "  <thead>\n",
       "    <tr style=\"text-align: right;\">\n",
       "      <th></th>\n",
       "      <th>calories</th>\n",
       "      <th>duration</th>\n",
       "      <th>distance</th>\n",
       "    </tr>\n",
       "  </thead>\n",
       "  <tbody>\n",
       "    <tr>\n",
       "      <th>3</th>\n",
       "      <td>650</td>\n",
       "      <td>52</td>\n",
       "      <td>14</td>\n",
       "    </tr>\n",
       "    <tr>\n",
       "      <th>5</th>\n",
       "      <td>264</td>\n",
       "      <td>23</td>\n",
       "      <td>42</td>\n",
       "    </tr>\n",
       "    <tr>\n",
       "      <th>6</th>\n",
       "      <td>345</td>\n",
       "      <td>23</td>\n",
       "      <td>30</td>\n",
       "    </tr>\n",
       "  </tbody>\n",
       "</table>\n",
       "</div>"
      ],
      "text/plain": [
       "   calories  duration  distance\n",
       "3       650        52        14\n",
       "5       264        23        42\n",
       "6       345        23        30"
      ]
     },
     "execution_count": 221,
     "metadata": {},
     "output_type": "execute_result"
    }
   ],
   "source": [
    "#Se filtran aquellos con valor 650 en la columna calories o duration 23\n",
    "df[(df['calories']==650)|(df['duration']==23)]"
   ]
  },
  {
   "cell_type": "code",
   "execution_count": 222,
   "metadata": {},
   "outputs": [],
   "source": [
    "#Modificar una columna calories sumandole 100 a todos los valores\n",
    "df['calories'] = df['calories'].apply(lambda x : x+100)"
   ]
  },
  {
   "cell_type": "code",
   "execution_count": 226,
   "metadata": {},
   "outputs": [
    {
     "data": {
      "text/plain": [
       "<AxesSubplot:>"
      ]
     },
     "execution_count": 226,
     "metadata": {},
     "output_type": "execute_result"
    },
    {
     "data": {
      "image/png": "[encoded data removed]",
      "text/plain": [
       "<Figure size 864x252 with 2 Axes>"
      ]
     },
     "metadata": {
      "needs_background": "light"
     },
     "output_type": "display_data"
    }
   ],
   "source": [
    "#Heatmap para observar la correlación entre las variables\n",
    "sns.heatmap(df.corr(), annot=True, linewidths=.5)"
   ]
  },
  {
   "cell_type": "markdown",
   "metadata": {},
   "source": [
    "Del gráfico superior se obtiene la correlación de Pearson entre las 3 variables, observando lo siguiente:\n",
    "* La correlación entre calories y duration es una correlación moderada positiva, con un valor de 50%. \n",
    "* La correlación entre calories y distance es una correlación débil negativa, con un valor de -21%.\n",
    "* La correlación entre duration y distance es una correlación muy débil negativa, con un valor de -7%."
   ]
  },
  {
   "cell_type": "markdown",
   "metadata": {},
   "source": [
    "Más detalle y ejercicios de Pandas en: https://www.w3schools.com/python/pandas/default.asp"
   ]
  },
  {
   "cell_type": "markdown",
   "metadata": {},
   "source": [
    "### EJERCICIOS"
   ]
  },
  {
   "cell_type": "markdown",
   "metadata": {},
   "source": [
    "1. Escriba un programa en Python que simule un proceso de retiro de cajero automático. Teniendo como saldo inicial 500, use un bucle(loop) para retirar repetidamente un monto de 80 soles hasta que el saldo sea insuficiente.  Actualice el saldo e imprima el saldo restante después de cada retiro."
   ]
  },
  {
   "cell_type": "markdown",
   "metadata": {},
   "source": [
    "Solución\n",
    "<!---\n",
    "saldo = 500\n",
    "\n",
    "while saldo>=retiro:\n",
    "    retiro = 80\n",
    "    if retiro > saldo:\n",
    "        print(\"Saldo Insuficiente.\")\n",
    "    else:\n",
    "        saldo -= retiro\n",
    "        print(\"Saldo restante:\", saldo)\n",
    "-->"
   ]
  },
  {
   "cell_type": "markdown",
   "metadata": {},
   "source": [
    "2. Escriba un programa en Python que calcule el interés de la tarjeta de crédito para un monto de 2000 y una TEA de 15%. Use un bucle para calcular el interés de cada mes por 12 meses y actualice el saldo en consecuencia. Imprime el saldo final."
   ]
  },
  {
   "cell_type": "markdown",
   "metadata": {},
   "source": [
    "Solucion\n",
    "<!---\n",
    "balance = 2000\n",
    "\n",
    "tasa = 0.15\n",
    "\n",
    "interes_mensual = tasa/ 12\n",
    "meses = 12\n",
    "\n",
    "for mes in range(meses):\n",
    "    interes = balance * interes_mensual\n",
    "    balance += interes\n",
    "    print(\"MES:\", mes+1, \"Balance:\", round(balance, 2))\n",
    "\n",
    "print(\"Final balance:\", round(balance, 2))\n",
    "-->"
   ]
  }
 ],
 "metadata": {
  "celltoolbar": "Raw Cell Format",
  "kernelspec": {
   "display_name": "Python 3",
   "language": "python",
   "name": "python3"
  },
  "language_info": {
   "codemirror_mode": {
    "name": "ipython",
    "version": 3
   },
   "file_extension": ".py",
   "mimetype": "text/x-python",
   "name": "python",
   "nbconvert_exporter": "python",
   "pygments_lexer": "ipython3",
   "version": "3.8.8"
  }
 },
 "nbformat": 4,
 "nbformat_minor": 1
}
